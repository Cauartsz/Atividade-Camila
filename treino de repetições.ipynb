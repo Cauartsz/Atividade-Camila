{
 "cells": [
  {
   "cell_type": "code",
   "execution_count": 10,
   "metadata": {},
   "outputs": [
    {
     "name": "stdout",
     "output_type": "stream",
     "text": [
      "5 patinhos foram passear.\n",
      "A mamãe gritou: Quá, quá, quá, quá. mas só 4 patinhos voltaram de lá.\n",
      "4 patinhos foram passear.\n",
      "A mamãe gritou: Quá, quá, quá, quá. mas só 3 patinhos voltaram de lá.\n",
      "3 patinhos foram passear.\n",
      "A mamãe gritou: Quá, quá, quá, quá. mas só 2 patinhos voltaram de lá.\n",
      "2 patinhos foram passear.\n",
      "A mamãe gritou: Quá, quá, quá, quá. mas só 1 patinhos voltaram de lá.\n",
      "1 patinho foi passear.\n",
      "A mamãe gritou: Quá, quá, quá, quá. mas nenhum patinho voltou de lá.\n",
      "A mamãe patinha foi procurar e gritou: Quá, quá, quá, quá. e todos os patinhos 5 voltaram de lá.\n"
     ]
    }
   ],
   "source": [
    "patinhos = 5\n",
    "print(patinhos,'patinhos foram passear.')\n",
    "print('A mamãe gritou: Quá, quá, quá, quá. mas só',(patinhos - 1),'patinhos voltaram de lá.')\n",
    "while patinhos <= 5:\n",
    "    patinhos -= 1\n",
    "    if (patinhos == 4 or patinhos == 3 or patinhos == 2):\n",
    "        print(patinhos,'patinhos foram passear.')\n",
    "        print('A mamãe gritou: Quá, quá, quá, quá. mas só',(patinhos - 1),'patinhos voltaram de lá.')\n",
    "    elif (patinhos == 1):\n",
    "        print(patinhos,'patinho foi passear.')\n",
    "        print('A mamãe gritou: Quá, quá, quá, quá. mas nenhum patinho voltou de lá.')\n",
    "    else:\n",
    "        patinhos += 5\n",
    "        print('A mamãe patinha foi procurar e gritou: Quá, quá, quá, quá. e todos os patinhos',patinhos,'voltaram de lá.')\n",
    "        break\n",
    "    "
   ]
  },
  {
   "cell_type": "code",
   "execution_count": 21,
   "metadata": {},
   "outputs": [
    {
     "name": "stdout",
     "output_type": "stream",
     "text": [
      "incomodam, incomodam, incomodam, incomodam, incomodam, incomodam, incomodam, incomodam, incomodam, incomodam, \n"
     ]
    }
   ],
   "source": [
    "elefante = 10\n",
    "print('incomodam, ' * elefante)"
   ]
  },
  {
   "cell_type": "code",
   "execution_count": 30,
   "metadata": {},
   "outputs": [
    {
     "name": "stdout",
     "output_type": "stream",
     "text": [
      "1 elefante incomoda muita gente...\n",
      "2 elefantes incomodam, incomodam,  muito mais!\n",
      "3 elefantes incomodam muita gente...\n",
      "4 elefantes incomodam, incomodam, incomodam, incomodam,  muito mais!\n",
      "5 elefantes incomodam muita gente...\n",
      "6 elefantes incomodam, incomodam, incomodam, incomodam, incomodam, incomodam,  muito mais!\n",
      "7 elefantes incomodam muita gente...\n",
      "8 elefantes incomodam, incomodam, incomodam, incomodam, incomodam, incomodam, incomodam, incomodam,  muito mais!\n",
      "9 elefantes incomodam muita gente...\n",
      "10 elefantes incomodam, incomodam, incomodam, incomodam, incomodam, incomodam, incomodam, incomodam, incomodam, incomodam,  muito mais!\n"
     ]
    }
   ],
   "source": [
    "elefante = 1\n",
    "while elefante < 11:\n",
    "    if (elefante == 1):\n",
    "        print(elefante,'elefante incomoda muita gente...')\n",
    "        elefante += 1\n",
    "    elif (elefante % 2 == 0):\n",
    "        print(elefante,'elefantes','incomodam, '*elefante,'muito mais!')\n",
    "        elefante += 1\n",
    "    else:\n",
    "        print(elefante,'elefantes incomodam muita gente...')\n",
    "        elefante += 1"
   ]
  },
  {
   "cell_type": "code",
   "execution_count": 67,
   "metadata": {},
   "outputs": [
    {
     "name": "stdout",
     "output_type": "stream",
     "text": [
      "10 elefantes incomodam muita gente...\n",
      "9 elefantes incomodam, incomodam, incomodam, incomodam, incomodam, incomodam, incomodam, incomodam, incomodam,  muito menos!\n",
      "8 elefantes incomodam muita gente!\n",
      "7 elefantes incomodam, incomodam, incomodam, incomodam, incomodam, incomodam, incomodam,  muito menos!\n",
      "6 elefantes incomodam muita gente!\n",
      "5 elefantes incomodam, incomodam, incomodam, incomodam, incomodam,  muito menos!\n",
      "4 elefantes incomodam muita gente!\n",
      "3 elefantes incomodam, incomodam, incomodam,  muito menos!\n",
      "2 elefantes incomodam muita gente!\n",
      "1 elefantes incomodam muita gente!\n"
     ]
    }
   ],
   "source": [
    "elefante = 10\n",
    "lista = [3,5,7,9]\n",
    "lista2 = [2,4,5,6,8]\n",
    "\n",
    "while elefante < 11 and elefante > 0:\n",
    "    if (elefante == 10):\n",
    "        print(elefante,'elefantes incomodam muita gente...')\n",
    "        elefante -= 1\n",
    "    elif (elefante in lista):\n",
    "        print(elefante,'elefantes','incomodam, '* elefante,'muito menos!')\n",
    "        elefante -= 1\n",
    "    elif (elefantes in lista2):\n",
    "        print(elefante,'elefantes incomodam muita gente!')\n",
    "        elefante -= 1\n",
    "    elif (elefantes == 1):\n",
    "        print(elefante,'elefante incomoda muito menos!')\n",
    "        break"
   ]
  },
  {
   "cell_type": "code",
   "execution_count": 63,
   "metadata": {},
   "outputs": [
    {
     "name": "stdout",
     "output_type": "stream",
     "text": [
      "('Mariana conta', 1, 'Mariana conta', 1)\n",
      "('É', 1, 'É', 1) É, Ana\n",
      "Viva Mariana. Viva Mariana. \n",
      "('Mariana conta', 2, 'Mariana conta', 2)\n",
      "É [1, 2] É, Ana\n",
      "Viva Mariana. Viva Mariana. \n",
      "('Mariana conta', 3, 'Mariana conta', 3)\n",
      "É [1, 2, 3] É, Ana\n",
      "Viva Mariana. Viva Mariana. \n",
      "('Mariana conta', 4, 'Mariana conta', 4)\n",
      "É [1, 2, 3, 4] É, Ana\n",
      "Viva Mariana. Viva Mariana. \n",
      "('Mariana conta', 5, 'Mariana conta', 5)\n",
      "É [1, 2, 3, 4, 5] É, Ana\n",
      "Viva Mariana. Viva Mariana. \n",
      "('Mariana conta', 6, 'Mariana conta', 6)\n",
      "É [1, 2, 3, 4, 5, 6] É, Ana\n",
      "Viva Mariana. Viva Mariana. \n",
      "('Mariana conta', 7, 'Mariana conta', 7)\n",
      "É [1, 2, 3, 4, 5, 6, 7] É, Ana\n",
      "Viva Mariana. Viva Mariana. \n",
      "('Mariana conta', 8, 'Mariana conta', 8)\n",
      "É [1, 2, 3, 4, 5, 6, 7, 8] É, Ana\n",
      "Viva Mariana. Viva Mariana. \n",
      "('Mariana conta', 9, 'Mariana conta', 9)\n",
      "É [1, 2, 3, 4, 5, 6, 7, 8, 9] É, Ana\n",
      "Viva Mariana. Viva Mariana. \n",
      "('Mariana conta', 10, 'Mariana conta', 10)\n",
      "É [1, 2, 3, 4, 5, 6, 7, 8, 9, 10] É, Ana\n",
      "Viva Mariana. Viva Mariana. \n"
     ]
    }
   ],
   "source": [
    "conta = 1\n",
    "two = 2\n",
    "lista = []\n",
    "lista2 = [2,3,4,5,6,7,8,9]\n",
    "\n",
    "while conta <= 10:\n",
    "    if (conta == 1):\n",
    "      lista.insert(1,1)\n",
    "      print(('Mariana conta', conta) * two)\n",
    "      print(('É', conta) * two, 'É, Ana')\n",
    "      print(('Viva Mariana. ') * two)\n",
    "      conta += 1\n",
    "    elif (conta in lista2):\n",
    "        lista.append(conta)\n",
    "        print(('Mariana conta', conta) * two)\n",
    "        print('É', lista, 'É, Ana')\n",
    "        print(('Viva Mariana. ') * two)\n",
    "        conta += 1\n",
    "    elif (conta == 10):\n",
    "        lista.append(conta)\n",
    "        print(('Mariana conta', conta) * two)\n",
    "        print('É', lista, 'É, Ana')\n",
    "        print(('Viva Mariana. ') * two)\n",
    "        break"
   ]
  },
  {
   "cell_type": "code",
   "execution_count": 52,
   "metadata": {},
   "outputs": [
    {
     "name": "stdout",
     "output_type": "stream",
     "text": [
      "('mariana conta', 1, 'mariana conta', 1)\n"
     ]
    }
   ],
   "source": [
    "conta = 1\n",
    "two = 2\n",
    "print(('mariana conta', conta) * two)"
   ]
  }
 ],
 "metadata": {
  "kernelspec": {
   "display_name": "Python 3",
   "language": "python",
   "name": "python3"
  },
  "language_info": {
   "codemirror_mode": {
    "name": "ipython",
    "version": 3
   },
   "file_extension": ".py",
   "mimetype": "text/x-python",
   "name": "python",
   "nbconvert_exporter": "python",
   "pygments_lexer": "ipython3",
   "version": "3.11.4"
  }
 },
 "nbformat": 4,
 "nbformat_minor": 2
}

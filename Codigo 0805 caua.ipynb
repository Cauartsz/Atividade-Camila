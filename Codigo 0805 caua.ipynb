{
 "cells": [
  {
   "cell_type": "code",
   "execution_count": 3,
   "metadata": {},
   "outputs": [
    {
     "name": "stdout",
     "output_type": "stream",
     "text": [
      "3\n"
     ]
    }
   ],
   "source": [
    "for produto in range (0,4):\n",
    "    p= str(input(\"Digite o nome do produto:\"))\n",
    "    v= float(input(\"Digite o valor do produto:\"))\n",
    "    \n",
    "print(produto)\n",
    "#repete 4 vezes o nome e o valor para inserir"
   ]
  },
  {
   "cell_type": "code",
   "execution_count": 4,
   "metadata": {},
   "outputs": [
    {
     "name": "stdout",
     "output_type": "stream",
     "text": [
      "Estamos no elemento: 1\n",
      "Estamos no elemento: 2\n",
      "Estamos no elemento: 3\n",
      "Estamos no elemento: 4\n",
      "Estamos no elemento: 5\n",
      "Estamos no elemento: 6\n"
     ]
    }
   ],
   "source": [
    "for elemento in [1,2,3,4,5,6]:\n",
    "    print(\"Estamos no elemento:\",elemento)\n",
    "    #repete a lista"
   ]
  },
  {
   "cell_type": "code",
   "execution_count": 5,
   "metadata": {},
   "outputs": [
    {
     "name": "stdout",
     "output_type": "stream",
     "text": [
      "Estamos no elemento: S\n",
      "Estamos no elemento: T\n",
      "Estamos no elemento: R\n",
      "Estamos no elemento: I\n",
      "Estamos no elemento: N\n",
      "Estamos no elemento: G\n"
     ]
    }
   ],
   "source": [
    "for elemento in \"STRING\":\n",
    "    print(\"Estamos no elemento:\",elemento)\n",
    "    #soletra a palavra"
   ]
  },
  {
   "cell_type": "code",
   "execution_count": 6,
   "metadata": {},
   "outputs": [
    {
     "name": "stdout",
     "output_type": "stream",
     "text": [
      "Estamos no elemento: 0\n",
      "Estamos no elemento: 1\n",
      "Estamos no elemento: 2\n",
      "Estamos no elemento: 3\n",
      "Estamos no elemento: 4\n",
      "Estamos no elemento: 5\n"
     ]
    }
   ],
   "source": [
    "for elemento in range(len(\"STRING\")):\n",
    "    print(\"Estamos no elemento:\",elemento)\n",
    "\n",
    "#range de 6, len ele contabiliza os elementos"
   ]
  },
  {
   "cell_type": "code",
   "execution_count": 1,
   "metadata": {},
   "outputs": [],
   "source": [
    "produto= 0\n",
    "while produto < 4:\n",
    "    p= str(input(\"Digite o nome do produto:\"))\n",
    "    v= float(input(\"Digite o valor do produto:\"))\n",
    "    produto += 1 #incrementa +1 ao produto sempre que as perguntas são respondidas, nesse caso, até o valor do produto chegar em 4."
   ]
  },
  {
   "cell_type": "code",
   "execution_count": 4,
   "metadata": {},
   "outputs": [
    {
     "name": "stdout",
     "output_type": "stream",
     "text": [
      "Estamos no elemento: 0\n",
      "Estamos no elemento: 1\n",
      "Estamos no elemento: 2\n",
      "Estamos no elemento: 3\n",
      "Estamos no elemento: 4\n",
      "Estamos no elemento: 5\n",
      "Estamos no elemento: 6\n"
     ]
    }
   ],
   "source": [
    "elemento= 0\n",
    "while elemento <= len([1,2,3,4,5,6]):\n",
    "    print(\"Estamos no elemento:\",elemento)\n",
    "    elemento += 1"
   ]
  },
  {
   "cell_type": "code",
   "execution_count": 5,
   "metadata": {},
   "outputs": [
    {
     "name": "stdout",
     "output_type": "stream",
     "text": [
      "Estamos no elemento: S\n",
      "Estamos no elemento: T\n",
      "Estamos no elemento: R\n",
      "Estamos no elemento: I\n",
      "Estamos no elemento: N\n",
      "Estamos no elemento: G\n"
     ]
    }
   ],
   "source": [
    "s= \"STRING\"\n",
    "indice= 0\n",
    "\n",
    "while indice in range (len(s)):\n",
    "    print(\"Estamos no elemento:\",s[indice])\n",
    "    indice += 1\n",
    "    #Repetir a frase pelo tanto de letras que possui a palavra STRING"
   ]
  },
  {
   "cell_type": "code",
   "execution_count": 8,
   "metadata": {},
   "outputs": [
    {
     "name": "stdout",
     "output_type": "stream",
     "text": [
      "0 t\n",
      "1 r\n",
      "2 a\n",
      "3 n\n",
      "4 q\n",
      "5 u\n",
      "6 i\n",
      "7 l\n",
      "8 o\n"
     ]
    }
   ],
   "source": [
    "palavra= \"tranquilo\"\n",
    "for indice,letra in enumerate(palavra):\n",
    "    print(indice,letra)\n",
    "    #O enumerate precisa de duas variaveis, uma de indice, e outra de letra"
   ]
  },
  {
   "cell_type": "code",
   "execution_count": 12,
   "metadata": {},
   "outputs": [
    {
     "name": "stdout",
     "output_type": "stream",
     "text": [
      "tipo: <class 'enumerate'>\n",
      "[(0, 'eat'), (1, 'sleep'), (2, 'repeat')]\n",
      "[(2, 'g'), (3, 'e'), (4, 'e'), (5, 'k')]\n"
     ]
    }
   ],
   "source": [
    "lista= ['eat','sleep','repeat']\n",
    "palavra= 'geek'\n",
    "objeto1= enumerate(lista)\n",
    "objeto2= enumerate(palavra)\n",
    "print(\"tipo:\", type(objeto1))\n",
    "print(list(enumerate(lista)))\n",
    "print(list(enumerate(palavra,2)))"
   ]
  },
  {
   "cell_type": "code",
   "execution_count": 13,
   "metadata": {},
   "outputs": [
    {
     "name": "stdout",
     "output_type": "stream",
     "text": [
      "oi\n",
      "oi\n",
      "oi\n",
      "oi\n",
      "oi\n",
      "oi\n",
      "oi\n",
      "oi\n",
      "oi\n",
      "oi\n",
      "oi\n",
      "oi\n",
      "oi\n"
     ]
    }
   ],
   "source": [
    "s= \"viva o phyton\" #espaço conta como caractere\n",
    "for ch in s:\n",
    "    print('oi')"
   ]
  },
  {
   "cell_type": "code",
   "execution_count": 14,
   "metadata": {},
   "outputs": [
    {
     "name": "stdout",
     "output_type": "stream",
     "text": [
      "oi\n",
      "oi\n",
      "oi\n",
      "oi\n",
      "oi\n"
     ]
    }
   ],
   "source": [
    "s= \"viva o phyton\" #espaço conta como caractere\n",
    "for ch in s[3:8]:\n",
    "    print('oi')"
   ]
  },
  {
   "cell_type": "code",
   "execution_count": 35,
   "metadata": {},
   "outputs": [
    {
     "name": "stdout",
     "output_type": "stream",
     "text": [
      "Essa é a quantidade de números impares e pares inseridos: \n",
      "Pares: 5 \n",
      "Impares: 5\n"
     ]
    }
   ],
   "source": [
    "#Pedir 10 números - Contadores variaveis\n",
    "pares= 0\n",
    "impares= 0\n",
    "#Pedir 10 números - Inserção e conta\n",
    "for listan in range (0,10):\n",
    "    numero= int(input(\"Insira um número:\"))\n",
    "    if (numero % 2 == 0):\n",
    "        pares += 1\n",
    "    else:\n",
    "        impares += 1\n",
    "print('Essa é a quantidade de números impares e pares inseridos: \\nPares:',pares, '\\nImpares:',impares)"
   ]
  }
 ],
 "metadata": {
  "kernelspec": {
   "display_name": "Python 3",
   "language": "python",
   "name": "python3"
  },
  "language_info": {
   "codemirror_mode": {
    "name": "ipython",
    "version": 3
   },
   "file_extension": ".py",
   "mimetype": "text/x-python",
   "name": "python",
   "nbconvert_exporter": "python",
   "pygments_lexer": "ipython3",
   "version": "3.11.4"
  }
 },
 "nbformat": 4,
 "nbformat_minor": 2
}

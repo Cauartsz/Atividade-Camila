{
 "cells": [
  {
   "cell_type": "markdown",
   "metadata": {},
   "source": [
    "PROGRAMA 1: PEDIR 2 NUMEROS INTEIROS E 1 NUMERO REAL E REALIZAR A SEGUINTE CONTA (DOBRO DO PRIMEIRO + METADE DO SEGUNDO) CONCLUIDOOO"
   ]
  },
  {
   "cell_type": "code",
   "execution_count": 1,
   "metadata": {},
   "outputs": [
    {
     "name": "stdout",
     "output_type": "stream",
     "text": [
      "A soma entre o produto do dobro do primeiro número com a metade do segundo número tem resultado igual a: 12.5\n"
     ]
    }
   ],
   "source": [
    "valor1t= int(input('Insira um número inteiro aqui: '))\n",
    "valor2t= int(input('Insira outro número inteiro aqui: '))\n",
    "valor3r= float(input('Agora insira um número real aqui: '))\n",
    "soma12= valor1t * 2 + valor2t / 2\n",
    "print('A soma entre o produto do dobro do primeiro número com a metade do segundo número tem resultado igual a:' , soma12)"
   ]
  },
  {
   "cell_type": "markdown",
   "metadata": {},
   "source": [
    "PROGRAMA 1: PEDIR 2 NUMEROS INTEIROS E 1 NUMERO REAL E REALIZAR A SEGUINTE CONTA (TRIPLO DO PRIMEIRO + TERCEIRO ELEVADO AO CUBO) CONCLUIDOOO"
   ]
  },
  {
   "cell_type": "code",
   "execution_count": 2,
   "metadata": {},
   "outputs": [
    {
     "name": "stdout",
     "output_type": "stream",
     "text": [
      "A soma entre o produto do triplo do primeiro número com o terceiro número elevado ao cubo tem resultado igual a: 140.0\n"
     ]
    }
   ],
   "source": [
    "valor1t= int(input('Insira um número inteiro aqui: '))\n",
    "valor2t= int(input('Insira outro número inteiro aqui: '))\n",
    "valor3r= float(input('Agora insira um número real aqui: '))\n",
    "soma13= valor1t * 3 + valor3r ** 3\n",
    "print('A soma entre o produto do triplo do primeiro número com o terceiro número elevado ao cubo tem resultado igual a:' , soma13)"
   ]
  },
  {
   "cell_type": "markdown",
   "metadata": {},
   "source": [
    "PROGRAMA 1 COMPLETO!\n",
    "Descrição: realizar duas contas diferentes usando numeros definidos entre as 3 inserções."
   ]
  },
  {
   "cell_type": "code",
   "execution_count": 3,
   "metadata": {},
   "outputs": [
    {
     "name": "stdout",
     "output_type": "stream",
     "text": [
      "A soma entre o produto do dobro do primeiro número com a metade do segundo número tem resultado igual a: 12.5\n",
      "A soma entre o produto do triplo do primeiro número com o terceiro número elevado ao cubo tem resultado igual a: 140.0\n"
     ]
    }
   ],
   "source": [
    "valor1t= int(input('Insira um número inteiro aqui: '))\n",
    "valor2t= int(input('Insira outro número inteiro aqui: '))\n",
    "valor3r= float(input('Agora insira um número real aqui: '))\n",
    "soma12= valor1t * 2 + valor2t / 2\n",
    "print('A soma entre o produto do dobro do primeiro número com a metade do segundo número tem resultado igual a:' , soma12)\n",
    "soma13= valor1t * 3 + valor3r ** 3\n",
    "print('A soma entre o produto do triplo do primeiro número com o terceiro número elevado ao cubo tem resultado igual a:' , soma13)"
   ]
  },
  {
   "cell_type": "markdown",
   "metadata": {},
   "source": [
    "PROGRAMA 2 COMPLETO!\n",
    "Descrição: Pedir dois números quaisquer e imprimir o maior entre eles."
   ]
  },
  {
   "cell_type": "code",
   "execution_count": 62,
   "metadata": {},
   "outputs": [
    {
     "name": "stdout",
     "output_type": "stream",
     "text": [
      "O maior número escolhido foi:  5.0\n"
     ]
    }
   ],
   "source": [
    "valor1= float(input('Insira um número aleatório aqui: '))\n",
    "valor2= float(input('Insira um outro número aleatório aqui: '))\n",
    "if (valor1 > valor2):\n",
    "    print('O maior número escolhido foi: ', valor1)\n",
    "else:\n",
    "    print('O maior número escolhido foi: ', valor2)"
   ]
  },
  {
   "cell_type": "markdown",
   "metadata": {},
   "source": [
    "PROGRAMA 3 COMPLETO!\n",
    "Descrição: Mostra se o número inserido é positivo, negativo ou igual a zero."
   ]
  },
  {
   "cell_type": "code",
   "execution_count": 63,
   "metadata": {},
   "outputs": [
    {
     "name": "stdout",
     "output_type": "stream",
     "text": [
      "O valor do seu número é negativo! Veja: -0.1\n"
     ]
    }
   ],
   "source": [
    "valorx= float(input('Insira um número aleatório aqui, lhe direi se ele é positivo ou negativo: '))\n",
    "if (valorx > 0):\n",
    "    print('O valor do seu número é positivo! Veja: ',valorx)\n",
    "else:\n",
    "    if (valorx == 0):\n",
    "        print('Seu número é igual a zero! Veja: ',valorx)\n",
    "    else:\n",
    "        print('O valor do seu número é negativo! Veja:', valorx)"
   ]
  },
  {
   "cell_type": "markdown",
   "metadata": {},
   "source": [
    "PROGRAMA 4 COMPLETO! Descrição: Mostra se suas duas notas o deixam abaixo ou acima da média (média = 7)"
   ]
  },
  {
   "cell_type": "code",
   "execution_count": 74,
   "metadata": {},
   "outputs": [
    {
     "name": "stdout",
     "output_type": "stream",
     "text": [
      "Parabéns! Você está acima da média! Veja: 8.5\n"
     ]
    }
   ],
   "source": [
    "nota1= float(input('Insira sua primeira nota parcial: '))\n",
    "nota2= float(input('Insira sua segunda nota parcial: '))\n",
    "media= 7\n",
    "mediax= (nota1 + nota2) / 2 \n",
    "if (mediax > media):\n",
    "    print('Parabéns! Você está acima da média! Veja:', mediax)\n",
    "else:\n",
    "    if (mediax == media):\n",
    "        print('Parabéns! Você está na média! Veja:', mediax)\n",
    "    else:\n",
    "        print('Poxa... Você ainda está abaixo da média. Tente outra vez.', mediax)"
   ]
  },
  {
   "cell_type": "markdown",
   "metadata": {},
   "source": [
    "PROGRAMA 5 COMPLETO! Descrição: Inserir três números e mostrar qual é o maior."
   ]
  },
  {
   "cell_type": "code",
   "execution_count": 77,
   "metadata": {},
   "outputs": [
    {
     "name": "stdout",
     "output_type": "stream",
     "text": [
      "O maior número é o primeiro: 9.0\n"
     ]
    }
   ],
   "source": [
    "numero1= float(input('Insira um primeiro número: '))\n",
    "numero2= float(input('Insira um segundo número: '))\n",
    "numero3= float(input('Insira um terceiro número: '))\n",
    "if (numero1 > numero2):\n",
    "    print('O maior número é o primeiro:', numero1)\n",
    "else:\n",
    "    if (numero2 > numero3):\n",
    "        print('O maior número é o segundo:', numero2)\n",
    "    else:\n",
    "        if (numero3 > numero1):\n",
    "            print('O maior número é o terceiro:', numero3)\n"
   ]
  },
  {
   "cell_type": "markdown",
   "metadata": {},
   "source": [
    "Atividade completa! Amei, fiquei encantado com a forma como os comandos deram certo! :DD\n",
    "Passei 2h quebrando a cabeça prof, ajuda ai Tia kkk, brincadeira. S2"
   ]
  }
 ],
 "metadata": {
  "kernelspec": {
   "display_name": "Python 3",
   "language": "python",
   "name": "python3"
  },
  "language_info": {
   "codemirror_mode": {
    "name": "ipython",
    "version": 3
   },
   "file_extension": ".py",
   "mimetype": "text/x-python",
   "name": "python",
   "nbconvert_exporter": "python",
   "pygments_lexer": "ipython3",
   "version": "3.11.5"
  }
 },
 "nbformat": 4,
 "nbformat_minor": 2
}

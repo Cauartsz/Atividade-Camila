{
 "cells": [
  {
   "cell_type": "markdown",
   "metadata": {},
   "source": [
    "1) | VERIFICAR VOGAL OU CONSOANTE:\n",
    "- Implementei um contador e limitador de caracteres na resposta.\n",
    "- O usuário pode digitar em Minúsculo ou Maiúsculo e terá a resposta certa.\n",
    "- COMPLETO!"
   ]
  },
  {
   "cell_type": "code",
   "execution_count": 71,
   "metadata": {},
   "outputs": [
    {
     "name": "stdout",
     "output_type": "stream",
     "text": [
      "A letra inserida é uma Consoante: X\n"
     ]
    }
   ],
   "source": [
    "letra= input('Insira uma letra e direi se ela é uma Vogal ou Consoante:')          #//Pedir letra.//\n",
    "str(letra)                                                                         #//transformar dado em str.//\n",
    "if (len(letra) >= 2):                                                              #//Condições e contador/limitador de caracteres.//\n",
    "    print('Texto inválido, digite apenas uma única letra.')                        #//Respostas.//\n",
    "elif (letra != 'a' and letra != 'A' and letra != 'E' and letra != 'e' and letra != 'I' and letra != 'i' and letra != 'O' and letra != 'o' and letra != 'U' and letra != 'u'):\n",
    "    print('A letra inserida é uma Consoante:',letra)                               #//Suporte para minuscula ou maiuscula.//\n",
    "else:                                                                              #//Finalizado.//\n",
    "    print('A letra inserida é uma Vogal:',letra)"
   ]
  },
  {
   "cell_type": "markdown",
   "metadata": {},
   "source": [
    "2) | PEDIR VALOR DE 3 PRODUTOS E DIZER O MAIS BARATO:\n",
    "- Organizador de lista em ordem crescente.\n",
    "- COMPLETO!"
   ]
  },
  {
   "cell_type": "code",
   "execution_count": 26,
   "metadata": {},
   "outputs": [
    {
     "name": "stdout",
     "output_type": "stream",
     "text": [
      "[9.0, 1.0, 5.0]\n",
      "O produto mais barato é o de valor: 1.0\n"
     ]
    }
   ],
   "source": [
    "lista = []\n",
    "valorx= float(input(\"Insira o valor do primeiro produto:\"))      #//Pedir valores.//\n",
    "lista.append(valorx)\n",
    "valory= float(input(\"Insira o valor do segundo produto:\"))\n",
    "lista.append(valory)\n",
    "valorz= float(input(\"Insira o valor do terceiro produto:\"))\n",
    "lista.append(valorz)\n",
    "print(lista)\n",
    "lista.sort(reverse = False)                                      #//Resposta.//\n",
    "print('O produto mais barato é o de valor:',lista[0])            #//Finalizado.//"
   ]
  },
  {
   "cell_type": "markdown",
   "metadata": {},
   "source": [
    "3) | PEDIR 3 NÚMEROS E PÔR EM ORDEM DECRESCENTE:\n",
    "- Duas tentativas (Uma com o 'sort' e outra sem.)\n",
    "- Completo!"
   ]
  },
  {
   "cell_type": "code",
   "execution_count": 18,
   "metadata": {},
   "outputs": [
    {
     "name": "stdout",
     "output_type": "stream",
     "text": [
      "Essa é a ordem decrescente dos 3 números inseridos: 8.0 10.0 10.0\n"
     ]
    }
   ],
   "source": [
    "numero1= float(input(\"Insira o primeiro número:\"))                                                #//Pedir valores.//\n",
    "numero2= float(input(\"Insira o segundo número:\"))\n",
    "numero3= float(input(\"Insira o terceiro número:\"))\n",
    "if ((numero1 > numero2 and numero1 > numero3) and (numero2 > numero3)):                           #//Respostas.//\n",
    "    print(\"Essa é a ordem decrescente dos 3 números inseridos:\",numero1, numero2, numero3)        #//Incompleto.//\n",
    "elif ((numero2 > numero1 and numero2 > numero3) and (numero1 > numero3)):\n",
    "    print(\"Essa é a ordem decrescente dos 3 números inseridos:\",numero2, numero1, numero3)\n",
    "elif ((numero2 > numero1 and numero2 > numero3) and (numero3 > numero1)):\n",
    "    print(\"Essa é a ordem decrescente dos 3 números inseridos:\",numero2, numero3, numero1)\n",
    "elif ((numero3 > numero1 and numero3 > numero2) and (numero2 > numero1)):\n",
    "    print(\"Essa é a ordem decrescente dos 3 números inseridos:\",numero3, numero2, numero1)\n",
    "else:\n",
    "    print(\"Essa é a ordem decrescente dos 3 números inseridos:\",numero3, numero1, numero2)  #(Falha se colocar numeros repetidos (executa o else))"
   ]
  },
  {
   "cell_type": "code",
   "execution_count": 32,
   "metadata": {},
   "outputs": [
    {
     "name": "stdout",
     "output_type": "stream",
     "text": [
      "Aqui estão os números em ordem decrescente: [98.0, 87.0, 54.0]\n"
     ]
    }
   ],
   "source": [
    "lista = []\n",
    "numero1= float(input(\"Insira o primeiro número:\"))                    #//Pedir valores.//\n",
    "lista.append(numero1)\n",
    "numero2= float(input(\"Insira o segundo número:\"))\n",
    "lista.append(numero2)\n",
    "numero3= float(input(\"Insira o terceiro número:\"))\n",
    "lista.append(numero3)\n",
    "lista.sort(reverse = True)                                            #//Resposta.//\n",
    "print('Aqui estão os números em ordem decrescente:',lista)            #//Finalizado.//"
   ]
  },
  {
   "cell_type": "markdown",
   "metadata": {},
   "source": [
    "4) | FAÇA UM PROGRAMA QUE PERGUNTE O TURNO E IMPRIMA UMA MENSAGEM PERSONALIZADA PARA CADA CASO:\n",
    "- Implementei um limite de 3 tentativas máximas.\n",
    "- COMPLETO!"
   ]
  },
  {
   "cell_type": "code",
   "execution_count": 35,
   "metadata": {},
   "outputs": [
    {
     "name": "stdout",
     "output_type": "stream",
     "text": [
      "Bom dia estudante!\n"
     ]
    }
   ],
   "source": [
    "#//Perguntar o turno num limite de 3 vezes.//\n",
    "perguntarTurno = 0\n",
    "for perguntarTurno in range (0,3):\n",
    " turno = input('Digite o seu turno: [M] - Matutino | [V] - Vespertino | [N] - Noturno')\n",
    " str(turno) #//Transformar dado em str.//\n",
    " if (turno == 'M' or turno == 'm'): #//Respostas.//\n",
    "     print('Bom dia estudante!')\n",
    "     break\n",
    " elif (turno == 'V' or turno == 'v'):\n",
    "     print('Boa tarde estudante!')\n",
    "     break\n",
    " elif (turno == 'N' or turno == 'n'):\n",
    "     print('Boa noite estudante!')\n",
    "     break\n",
    " else:\n",
    "     print('Valor invalido, tente novamente.')\n",
    "     perguntarTurno += 1\n",
    "while perguntarTurno >= 3: #//Outras Respostas//\n",
    "    print('Quantidade máxima de tentativas alcançada, tente novamente.')\n",
    "    break"
   ]
  },
  {
   "cell_type": "markdown",
   "metadata": {},
   "source": [
    "5) "
   ]
  }
 ],
 "metadata": {
  "kernelspec": {
   "display_name": "Python 3",
   "language": "python",
   "name": "python3"
  },
  "language_info": {
   "codemirror_mode": {
    "name": "ipython",
    "version": 3
   },
   "file_extension": ".py",
   "mimetype": "text/x-python",
   "name": "python",
   "nbconvert_exporter": "python",
   "pygments_lexer": "ipython3",
   "version": "3.11.4"
  }
 },
 "nbformat": 4,
 "nbformat_minor": 2
}

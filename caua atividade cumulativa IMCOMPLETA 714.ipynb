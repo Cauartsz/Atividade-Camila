{
 "cells": [
  {
   "cell_type": "markdown",
   "metadata": {},
   "source": [
    "1) | VERIFICAR VOGAL OU CONSOANTE:\n",
    "- Implementei um contador e limitador de caracteres na resposta.\n",
    "- O usuário pode digitar em Minúsculo ou Maiúsculo e terá a resposta certa.\n",
    "- COMPLETO!"
   ]
  },
  {
   "cell_type": "code",
   "execution_count": 61,
   "metadata": {},
   "outputs": [
    {
     "name": "stdout",
     "output_type": "stream",
     "text": [
      "A letra inserida é uma Consoante: j\n"
     ]
    }
   ],
   "source": [
    "letra= input('Insira uma letra e direi se ela é uma Vogal ou Consoante:')          #//Pedir letra.//\n",
    "str(letra)                                                                         #//transformar dado em str.//\n",
    "if (len(letra) >= 2):                                                              #//Condições e contador/limitador de caracteres.//\n",
    "    print('Texto inválido, digite apenas uma única letra.')                        #//Respostas.//\n",
    "elif (letra != 'a' and letra != 'A' and letra != 'E' and letra != 'e' and letra != 'I' and letra != 'i' and letra != 'O' and letra != 'o' and letra != 'U' and letra != 'u'):\n",
    "    print('A letra inserida é uma Consoante:',letra)                               #//Suporte para minuscula ou maiuscula.//\n",
    "else:                                                                              #//Finalizado.//\n",
    "    print('A letra inserida é uma Vogal:',letra)\n",
    "#Erro se digitar um numero ou mais...\n",
    "#Sistema AntiLetters (Letras desnecessárias) ok.\n",
    "#Poderia ter repetição para prevenir erros..."
   ]
  },
  {
   "cell_type": "markdown",
   "metadata": {},
   "source": [
    "2) | PEDIR VALOR DE 3 PRODUTOS E DIZER O MAIS BARATO:\n",
    "- Organizador de lista em ordem crescente.\n",
    "- COMPLETO!"
   ]
  },
  {
   "cell_type": "code",
   "execution_count": 22,
   "metadata": {},
   "outputs": [
    {
     "name": "stdout",
     "output_type": "stream",
     "text": [
      "[8.0, 5.0, 2.0]\n",
      "O produto mais barato é o de valor: 2.0\n"
     ]
    }
   ],
   "source": [
    "lista = []\n",
    "valorx= float(input(\"Insira o valor do primeiro produto:\"))      #//Pedir valores.//\n",
    "lista.append(valorx)\n",
    "valory= float(input(\"Insira o valor do segundo produto:\"))\n",
    "lista.append(valory)\n",
    "valorz= float(input(\"Insira o valor do terceiro produto:\"))\n",
    "lista.append(valorz)\n",
    "print(lista)\n",
    "lista.sort(reverse = False)                                      #//Resposta.//\n",
    "print('O produto mais barato é o de valor:',lista[0])            #//Finalizado.//\n",
    "#Erro se digitar letras...\n",
    "#Poderia ter repetição para prevenir erros...\n",
    "#Sistema AntiNumbers (Números desnecessários) ok."
   ]
  },
  {
   "cell_type": "markdown",
   "metadata": {},
   "source": [
    "3) | PEDIR 3 NÚMEROS E PÔR EM ORDEM DECRESCENTE:\n",
    "- Duas tentativas (Uma com o 'sort' e outra sem.)\n",
    "- COMPLETO!"
   ]
  },
  {
   "cell_type": "code",
   "execution_count": 18,
   "metadata": {},
   "outputs": [
    {
     "name": "stdout",
     "output_type": "stream",
     "text": [
      "Essa é a ordem decrescente dos 3 números inseridos: 8.0 10.0 10.0\n"
     ]
    }
   ],
   "source": [
    "numero1= float(input(\"Insira o primeiro número:\"))                                                #//Pedir valores.//\n",
    "numero2= float(input(\"Insira o segundo número:\"))\n",
    "numero3= float(input(\"Insira o terceiro número:\"))\n",
    "if ((numero1 > numero2 and numero1 > numero3) and (numero2 > numero3)):                           #//Respostas.//\n",
    "    print(\"Essa é a ordem decrescente dos 3 números inseridos:\",numero1, numero2, numero3)        #//Incompleto.//\n",
    "elif ((numero2 > numero1 and numero2 > numero3) and (numero1 > numero3)):\n",
    "    print(\"Essa é a ordem decrescente dos 3 números inseridos:\",numero2, numero1, numero3)\n",
    "elif ((numero2 > numero1 and numero2 > numero3) and (numero3 > numero1)):\n",
    "    print(\"Essa é a ordem decrescente dos 3 números inseridos:\",numero2, numero3, numero1)\n",
    "elif ((numero3 > numero1 and numero3 > numero2) and (numero2 > numero1)):\n",
    "    print(\"Essa é a ordem decrescente dos 3 números inseridos:\",numero3, numero2, numero1)\n",
    "else:\n",
    "    print(\"Essa é a ordem decrescente dos 3 números inseridos:\",numero3, numero1, numero2)  #(Falha se colocar numeros repetidos (executa o else))"
   ]
  },
  {
   "cell_type": "code",
   "execution_count": 58,
   "metadata": {},
   "outputs": [
    {
     "name": "stdout",
     "output_type": "stream",
     "text": [
      "Aqui estão os números em ordem decrescente: [6.0, 5.0, 4.0]\n"
     ]
    }
   ],
   "source": [
    "lista = []\n",
    "numero1= float(input(\"Insira o primeiro número:\"))                    #//Pedir valores.//\n",
    "lista.append(numero1)\n",
    "numero2= float(input(\"Insira o segundo número:\"))\n",
    "lista.append(numero2)\n",
    "numero3= float(input(\"Insira o terceiro número:\"))\n",
    "lista.append(numero3)\n",
    "lista.sort(reverse = True)                                            #//Resposta.//\n",
    "print('Aqui estão os números em ordem decrescente:',lista)            #//Finalizado.//\n",
    "#Sistema AntiNumbers ok.\n",
    "#Erro se digitar letras..."
   ]
  },
  {
   "cell_type": "markdown",
   "metadata": {},
   "source": [
    "4) | FAÇA UM PROGRAMA QUE PERGUNTE O TURNO E IMPRIMA UMA MENSAGEM PERSONALIZADA PARA CADA CASO:\n",
    "- Implementei um limite de 3 tentativas máximas.\n",
    "- COMPLETO!"
   ]
  },
  {
   "cell_type": "code",
   "execution_count": 23,
   "metadata": {},
   "outputs": [
    {
     "name": "stdout",
     "output_type": "stream",
     "text": [
      "Valor invalido, tente novamente.\n",
      "Valor invalido, tente novamente.\n",
      "Valor invalido, tente novamente.\n",
      "Quantidade máxima de tentativas alcançada, tente novamente.\n"
     ]
    }
   ],
   "source": [
    "#//Perguntar o turno num limite de 3 vezes.//\n",
    "perguntarTurno = 0\n",
    "for perguntarTurno in range (0,3):\n",
    " turno = input('Digite o seu turno: [M] - Matutino | [V] - Vespertino | [N] - Noturno')\n",
    " str(turno) #//Transformar dado em str.//\n",
    " if (turno == 'M' or turno == 'm'): #//Respostas.//\n",
    "     print('Bom dia estudante!')\n",
    "     break\n",
    " elif (turno == 'V' or turno == 'v'):\n",
    "     print('Boa tarde estudante!')\n",
    "     break\n",
    " elif (turno == 'N' or turno == 'n'):\n",
    "     print('Boa noite estudante!')\n",
    "     break\n",
    " else:\n",
    "     print('Valor invalido, tente novamente.')\n",
    "     perguntarTurno += 1\n",
    "while perguntarTurno >= 3: #//Outras Respostas//\n",
    "    print('Quantidade máxima de tentativas alcançada, tente novamente.')\n",
    "    break\n",
    "#Sem erros vistos.\n",
    "#While, in range e AntiNumbers e Antiletters ok."
   ]
  },
  {
   "cell_type": "markdown",
   "metadata": {},
   "source": [
    "5) | Ler numero correspondente a dia da semana e reportar valor invalido.\n",
    "- Implementei limite de 4 tentativas (in range + while).\n",
    "- COMPLETO!"
   ]
  },
  {
   "cell_type": "code",
   "execution_count": 70,
   "metadata": {},
   "outputs": [
    {
     "name": "stdout",
     "output_type": "stream",
     "text": [
      "O dia da semana correspondente a 7.0 é Sábado!\n"
     ]
    }
   ],
   "source": [
    "pergunta = 0\n",
    "for pergunta in range (0,4):\n",
    " dia = float(input('Digite um número inteiro (1 a 7) correspondente ao dia da semana: '))\n",
    " if (dia == 1):\n",
    "     print('O dia da semana correspondente a',dia, 'é Domingo!')\n",
    "     break\n",
    " elif (dia == 2):\n",
    "     print('O dia da semana correspondente a',dia, 'é Segunda-feira!')\n",
    "     break\n",
    " elif (dia == 3):\n",
    "     print('O dia da semana correspondente a',dia, 'é Terça-feira!')\n",
    "     break\n",
    " elif (dia == 4):\n",
    "     print('O dia da semana correspondente a',dia, 'é Quarta-feira!')\n",
    "     break\n",
    " elif (dia == 5):\n",
    "     print('O dia da semana correspondente a',dia, 'é Quinta-feira!')\n",
    "     break\n",
    " elif (dia == 6):\n",
    "     print('O dia da semana correspondente a',dia, 'é Sexta-feira!')\n",
    "     break\n",
    " elif (dia == 7):\n",
    "     print('O dia da semana correspondente a',dia, 'é Sábado!')\n",
    "     break\n",
    " else:\n",
    "     print('O texto digitado é inválido. Tente novamente')\n",
    "     pergunta += 1\n",
    "while pergunta >= 4:\n",
    "    print('Limite de tentativas alcançado, tente novamente mais tarde.')\n",
    "    break\n",
    "#Sistema AntiNumbers ok.\n",
    "#Erro ao digitar letras...\n",
    "     "
   ]
  },
  {
   "cell_type": "markdown",
   "metadata": {},
   "source": [
    "6) | Leia e mostre duas notas, a media, o conceito e uma mensagem de aprovado ou reprovado.\n",
    "A = 10 a 9 | B = 9 a 7.5 | C = 7.5 a 6 | D = 6 a 4 | E = 4 a 0 \n",
    "- COMPLETO!"
   ]
  },
  {
   "cell_type": "code",
   "execution_count": 78,
   "metadata": {},
   "outputs": [
    {
     "name": "stdout",
     "output_type": "stream",
     "text": [
      "Primeira nota: 5.0 \n",
      "Segunda nota: 6.0 \n",
      "Média: 5.5 \n",
      "Conceito: D \n",
      "Você foi reprovado(a), tente novamente.\n"
     ]
    }
   ],
   "source": [
    "nota1 = float(input('Digite sua primeira nota: '))\n",
    "nota2 = float(input('Digite sua segunda nota: '))\n",
    "media = (nota1 + nota2) / 2\n",
    "if (media > 10):\n",
    "    print('Não foi possível verificar, digite corretamente as suas notas.')\n",
    "elif (media >= 9 and media <= 10):\n",
    "    print('Primeira nota:',nota1, '\\nSegunda nota:',nota2, '\\nMédia:',media, '\\nConceito: A', '\\nVocê foi aprovado(a)!')\n",
    "elif (media >= 7.5 and media < 9):\n",
    "    print('Primeira nota:',nota1, '\\nSegunda nota:',nota2, '\\nMédia:',media, '\\nConceito: B', '\\nVocê foi aprovado(a)!')\n",
    "elif (media >= 6 and media < 7.5):\n",
    "    print('Primeira nota:',nota1, '\\nSegunda nota:',nota2, '\\nMédia:',media, '\\nConceito: C', '\\nVocê foi aprovado(a)!')\n",
    "elif (media >= 4 and media < 6):\n",
    "    print('Primeira nota:',nota1, '\\nSegunda nota:',nota2, '\\nMédia:',media, '\\nConceito: D', '\\nVocê foi reprovado(a), tente novamente.')\n",
    "elif (media < 4):\n",
    "    print('Primeira nota:',nota1, '\\nSegunda nota:',nota2, '\\nMédia:',media, '\\nConceito: E', '\\nVocê foi reprovado(a), tente novamente.')\n",
    "#Sistema AntiNumbers ok\n",
    "#Erro ao digitar letras..."
   ]
  },
  {
   "cell_type": "markdown",
   "metadata": {},
   "source": [
    "7) |"
   ]
  },
  {
   "cell_type": "code",
   "execution_count": null,
   "metadata": {},
   "outputs": [],
   "source": [
    "ano = int(input('Digite '))"
   ]
  }
 ],
 "metadata": {
  "kernelspec": {
   "display_name": "Python 3",
   "language": "python",
   "name": "python3"
  },
  "language_info": {
   "codemirror_mode": {
    "name": "ipython",
    "version": 3
   },
   "file_extension": ".py",
   "mimetype": "text/x-python",
   "name": "python",
   "nbconvert_exporter": "python",
   "pygments_lexer": "ipython3",
   "version": "3.12.1"
  }
 },
 "nbformat": 4,
 "nbformat_minor": 2
}

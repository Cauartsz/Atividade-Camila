{
 "cells": [
  {
   "cell_type": "code",
   "execution_count": 3,
   "metadata": {},
   "outputs": [
    {
     "name": "stdout",
     "output_type": "stream",
     "text": [
      "1\n",
      "2\n",
      "3\n",
      "4\n",
      "5\n",
      "6\n",
      "7\n",
      "8\n",
      "9\n"
     ]
    }
   ],
   "source": [
    "for oi in range(1, 10):\n",
    "    print(oi)"
   ]
  },
  {
   "cell_type": "code",
   "execution_count": 6,
   "metadata": {},
   "outputs": [
    {
     "name": "stdout",
     "output_type": "stream",
     "text": [
      "1000\n"
     ]
    }
   ],
   "source": [
    "gastos = 0\n",
    "valor_gasto = 0\n",
    "while gastos < 1000:\n",
    "    valor_gasto = int(input(\"Digite o valor do novo gasto\"))\n",
    "    gastos = gastos + valor_gasto\n",
    "print(gastos)"
   ]
  },
  {
   "cell_type": "code",
   "execution_count": 19,
   "metadata": {},
   "outputs": [
    {
     "name": "stdout",
     "output_type": "stream",
     "text": [
      "Você possui 1000 reais de saldo para compras!\n",
      "915.0\n",
      "915.0\n",
      "905.0\n",
      "905.0\n",
      "934.0\n",
      "965.0\n",
      "958.0\n",
      "958.0\n",
      "voce atingiu o limite 1048.0\n"
     ]
    }
   ],
   "source": [
    "print('Você possui 1000 reais de saldo para compras!')\n",
    "\n",
    "gastototal= 0\n",
    "gastofeito= 0\n",
    "limite= 1000\n",
    "\n",
    "while gastototal < limite:\n",
    " gastototal= gastototal + gastofeito\n",
    " gastofeito= float(input('Digite o gasto feito agora:'))\n",
    " valorestante= (limite - gastofeito)\n",
    " print(valorestante)\n",
    " gastototal= gastototal + gastofeito\n",
    "#\n",
    "print('voce atingiu o limite', gastototal)"
   ]
  }
 ],
 "metadata": {
  "kernelspec": {
   "display_name": "Python 3",
   "language": "python",
   "name": "python3"
  },
  "language_info": {
   "codemirror_mode": {
    "name": "ipython",
    "version": 3
   },
   "file_extension": ".py",
   "mimetype": "text/x-python",
   "name": "python",
   "nbconvert_exporter": "python",
   "pygments_lexer": "ipython3",
   "version": "3.11.4"
  }
 },
 "nbformat": 4,
 "nbformat_minor": 2
}

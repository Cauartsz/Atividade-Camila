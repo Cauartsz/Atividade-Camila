{
 "cells": [
  {
   "cell_type": "markdown",
   "metadata": {},
   "source": [
    "Pedir para o usuário inserir um número inteiro, para verificar se o número é par.\n",
    "\n",
    "valorx= int(input('Digite um número inteiro:')) valorx= int(input('Digite um número inteiro:'))"
   ]
  },
  {
   "cell_type": "code",
   "execution_count": 21,
   "metadata": {},
   "outputs": [
    {
     "name": "stdout",
     "output_type": "stream",
     "text": [
      "The number entered is odd, try again.\n"
     ]
    }
   ],
   "source": [
    "valorx= int(input('Digite um número inteiro:'))\n",
    "if (valorx %2 ==0):\n",
    "    print('Congratulatons! Your number is an even number.')\n",
    "else:\n",
    "    print('The number entered is odd, try again.')"
   ]
  }
 ],
 "metadata": {
  "kernelspec": {
   "display_name": "Python 3",
   "language": "python",
   "name": "python3"
  },
  "language_info": {
   "codemirror_mode": {
    "name": "ipython",
    "version": 3
   },
   "file_extension": ".py",
   "mimetype": "text/x-python",
   "name": "python",
   "nbconvert_exporter": "python",
   "pygments_lexer": "ipython3",
   "version": "3.11.4"
  }
 },
 "nbformat": 4,
 "nbformat_minor": 2
}

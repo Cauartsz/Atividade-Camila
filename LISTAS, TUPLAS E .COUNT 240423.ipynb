{
 "cells": [
  {
   "cell_type": "code",
   "execution_count": 2,
   "metadata": {},
   "outputs": [
    {
     "data": {
      "text/plain": [
       "3"
      ]
     },
     "execution_count": 2,
     "metadata": {},
     "output_type": "execute_result"
    }
   ],
   "source": [
    "L= []\n",
    "dias= [3,1,10] #Lista com nome dias, sempre use colchetes\n",
    "dias[0] #posição1"
   ]
  },
  {
   "cell_type": "code",
   "execution_count": 3,
   "metadata": {},
   "outputs": [
    {
     "data": {
      "text/plain": [
       "1"
      ]
     },
     "execution_count": 3,
     "metadata": {},
     "output_type": "execute_result"
    }
   ],
   "source": [
    "dias[1] #posição2"
   ]
  },
  {
   "cell_type": "code",
   "execution_count": 4,
   "metadata": {},
   "outputs": [
    {
     "data": {
      "text/plain": [
       "10"
      ]
     },
     "execution_count": 4,
     "metadata": {},
     "output_type": "execute_result"
    }
   ],
   "source": [
    "dias[2] #posição3"
   ]
  },
  {
   "cell_type": "code",
   "execution_count": 6,
   "metadata": {},
   "outputs": [],
   "source": [
    "Z= [3,8,9]\n",
    "Z[0]= 7 #Renomear seção da lista a partir da posição (trocar conteudo)"
   ]
  },
  {
   "cell_type": "code",
   "execution_count": 7,
   "metadata": {},
   "outputs": [
    {
     "data": {
      "text/plain": [
       "[7, 8, 9]"
      ]
     },
     "execution_count": 7,
     "metadata": {},
     "output_type": "execute_result"
    }
   ],
   "source": [
    "Z"
   ]
  },
  {
   "cell_type": "code",
   "execution_count": 10,
   "metadata": {},
   "outputs": [
    {
     "name": "stdout",
     "output_type": "stream",
     "text": [
      "True\n",
      "True\n",
      "[5, 7, 5, 8, 9]\n",
      "[5, 7, 5, 8, 9]\n"
     ]
    }
   ],
   "source": [
    "V= [6,7,5,8,9]\n",
    "L= V\n",
    "print(V==L)\n",
    "print(V is L) #comparando se são iguais\n",
    "V[0]= 5 #mesmo mudando, continuam iguais (ponteiro: apontam para a mesma coisa, mesmo que altere algo)\n",
    "print(V)\n",
    "print(L)"
   ]
  },
  {
   "cell_type": "code",
   "execution_count": 11,
   "metadata": {},
   "outputs": [
    {
     "name": "stdout",
     "output_type": "stream",
     "text": [
      "True\n",
      "False\n",
      "[81, 82, 83]\n",
      "[5, 82, 83]\n"
     ]
    }
   ],
   "source": [
    "a= [81,82,83]\n",
    "b= a[:] #Cria clone da lista com fatia\n",
    "print(a==b)\n",
    "print(a is b)\n",
    "b[0]= 5 #agora mudando, eles ficam diferentes (clona e torna as listas independentes uma da outra)\n",
    "print(a)\n",
    "print(b)"
   ]
  },
  {
   "cell_type": "code",
   "execution_count": 12,
   "metadata": {},
   "outputs": [
    {
     "name": "stdout",
     "output_type": "stream",
     "text": [
      "['b', 'c']\n",
      "['a', 'b', 'c', 'd']\n",
      "['d', 'e', 'f']\n",
      "['a', 'b', 'c', 'd', 'e', 'f']\n"
     ]
    }
   ],
   "source": [
    "uma_lista= ['a','b','c','d','e','f']\n",
    "            #0   1   2   3   4   5\n",
    "print(uma_lista[1:3]) #começa do inicio e exclui o ultimo (intervalo fechado)\n",
    "print(uma_lista[:4]) #para na penultima posição, excluindo a ultima\n",
    "print(uma_lista[3:]) #começa a partir da posição/índice selecionada(o)\n",
    "print(uma_lista[:]) #Toda a lista"
   ]
  },
  {
   "cell_type": "code",
   "execution_count": 13,
   "metadata": {},
   "outputs": [
    {
     "ename": "IndexError",
     "evalue": "list index out of range",
     "output_type": "error",
     "traceback": [
      "\u001b[1;31m---------------------------------------------------------------------------\u001b[0m",
      "\u001b[1;31mIndexError\u001b[0m                                Traceback (most recent call last)",
      "Cell \u001b[1;32mIn[13], line 4\u001b[0m\n\u001b[0;32m      2\u001b[0m b\u001b[38;5;241m=\u001b[39m a[:]\n\u001b[0;32m      3\u001b[0m b[\u001b[38;5;241m0\u001b[39m]\u001b[38;5;241m=\u001b[39m \u001b[38;5;241m5\u001b[39m\n\u001b[1;32m----> 4\u001b[0m \u001b[38;5;28mprint\u001b[39m(\u001b[43ma\u001b[49m\u001b[43m[\u001b[49m\u001b[38;5;241;43m3\u001b[39;49m\u001b[43m]\u001b[49m)\n",
      "\u001b[1;31mIndexError\u001b[0m: list index out of range"
     ]
    }
   ],
   "source": [
    "a= [1,2,3]\n",
    "#   0 1 2 (3)\n",
    "b= a[:]\n",
    "b[0]= 5\n",
    "print(a[3])\n",
    "#Não existe índice ou posição 3, por isso ele dá erro."
   ]
  },
  {
   "cell_type": "code",
   "execution_count": 69,
   "metadata": {},
   "outputs": [
    {
     "name": "stdout",
     "output_type": "stream",
     "text": [
      "[76, 92.3, 'oi', True, 4, 76]\n",
      "['pitomba', 76]\n",
      "[76, 92.3, 'oi', True, 4, 76, 'pitomba', 76] Resposta letra A\n",
      "['Cibele']\n",
      "[76, 92.3, 'oi', 'Cibele', True, 4, 76, 'pitomba', 76] Resposta letra B\n",
      "99\n",
      "[99, 76, 92.3, 'oi', 'Cibele', True, 4, 76, 'pitomba', 76] Resposta letra C\n",
      "Indice procurado é 3 - Resposta letra D\n",
      "[99, 76, 92.3, 'oi', 'Cibele', 4, 76, 'pitomba', 76] True Removido - Resposta letra E\n"
     ]
    }
   ],
   "source": [
    "#LETRA A) - ADICIONAR 'PITOMBA' E 76 AO FINAL DA LISTA. OK\n",
    "#Criar e Mostrar a lista1\n",
    "minhaLista= [76,92.3,'oi',True,4,76]\n",
    "#            0   1    2     3  4 5\n",
    "print(minhaLista)\n",
    "#Criar e mostrar a lista2\n",
    "minhaLista2= ['pitomba',76]\n",
    "print(minhaLista2)\n",
    "#mostrar lista3 (soma das outras duas)\n",
    "lista3= minhaLista + minhaLista2\n",
    "print(lista3, 'Resposta letra A')\n",
    "\n",
    "\n",
    "#LETRA B) - ADICIONAR 'CIBELE' NA POSIÇÃO 3 DA LISTA OK\n",
    "listacibele= ['Cibele']\n",
    "print(listacibele)\n",
    "Lista4= lista3[:3] + listacibele + lista3[3:]\n",
    "print(Lista4, 'Resposta letra B')\n",
    "\n",
    "\n",
    "#LETRA C) - Inserir 99 no início da lista OK\n",
    "lista99= 99\n",
    "print(lista99)\n",
    "Lista5= [99] + Lista4[:]\n",
    "print(Lista5, 'Resposta letra C')\n",
    "\n",
    "    \n",
    "#LETRA D) - Procurar o 'oi' na listagem OK\n",
    "if (Lista5[0] == 'oi'):\n",
    "    print('Indice procurado é 0')\n",
    "elif(Lista5[1] == 'oi'):\n",
    "    print('Indice procurado é 1')\n",
    "elif(Lista5[2] == 'oi'):\n",
    "    print('indice procurado é 2 - Resposta Letra C')\n",
    "elif (Lista5[3] == 'oi'):\n",
    "    print('Indice procurado é 3 - Resposta letra D')\n",
    "    \n",
    "\n",
    "#LETRA E) - REMOVER TRUE DA LISTA OK\n",
    "Lista6= [99,76,92.3,'oi','Cibele',4,76,'pitomba',76]\n",
    "if (Lista5[0] == True):\n",
    "    print(Lista6)\n",
    "elif(Lista5[1] == True):\n",
    "    print(Lista6)\n",
    "elif(Lista5[2] == True):\n",
    "    print(Lista6)\n",
    "elif (Lista5[3] == True):\n",
    "    print(Lista6)\n",
    "elif (Lista5[4] == True):\n",
    "    print(Lista6)\n",
    "elif (Lista5[5] == True):\n",
    "    print(Lista6, 'True Removido - Resposta letra E')"
   ]
  },
  {
   "cell_type": "code",
   "execution_count": 1,
   "metadata": {},
   "outputs": [
    {
     "data": {
      "text/plain": [
       "(10, 20, 30)"
      ]
     },
     "execution_count": 1,
     "metadata": {},
     "output_type": "execute_result"
    }
   ],
   "source": [
    "tupla= 10,20,30\n",
    "tupla"
   ]
  },
  {
   "cell_type": "code",
   "execution_count": 2,
   "metadata": {},
   "outputs": [
    {
     "data": {
      "text/plain": [
       "(10, 20, 30)"
      ]
     },
     "execution_count": 2,
     "metadata": {},
     "output_type": "execute_result"
    }
   ],
   "source": [
    "tupla= (10,20,30)\n",
    "tupla"
   ]
  },
  {
   "cell_type": "code",
   "execution_count": 3,
   "metadata": {},
   "outputs": [
    {
     "data": {
      "text/plain": [
       "(10,)"
      ]
     },
     "execution_count": 3,
     "metadata": {},
     "output_type": "execute_result"
    }
   ],
   "source": [
    "tupla= 10,\n",
    "tupla"
   ]
  },
  {
   "cell_type": "code",
   "execution_count": 5,
   "metadata": {},
   "outputs": [
    {
     "data": {
      "text/plain": [
       "()"
      ]
     },
     "execution_count": 5,
     "metadata": {},
     "output_type": "execute_result"
    }
   ],
   "source": [
    "tupla= ()\n",
    "tupla"
   ]
  },
  {
   "cell_type": "code",
   "execution_count": 6,
   "metadata": {},
   "outputs": [
    {
     "data": {
      "text/plain": [
       "('t', 'e', 's', 't', 'e')"
      ]
     },
     "execution_count": 6,
     "metadata": {},
     "output_type": "execute_result"
    }
   ],
   "source": [
    "tupla= tuple('teste')\n",
    "tupla"
   ]
  },
  {
   "cell_type": "code",
   "execution_count": 8,
   "metadata": {},
   "outputs": [
    {
     "name": "stdout",
     "output_type": "stream",
     "text": [
      "2\n",
      "0\n",
      "1\n"
     ]
    }
   ],
   "source": [
    "tuplanomes= ('Marlene','Zezinho','Marlene','Cibele','Zuely')\n",
    "print(tuplanomes.count('Marlene'))\n",
    "print(tuplanomes.count('Suely'))\n",
    "print(tuplanomes.count('Zezinho'))"
   ]
  },
  {
   "cell_type": "code",
   "execution_count": 11,
   "metadata": {},
   "outputs": [
    {
     "name": "stdout",
     "output_type": "stream",
     "text": [
      "3\n"
     ]
    }
   ],
   "source": [
    "tuplanumeros= (1,2,2,3,4,4,4,5)\n",
    "print(tuplanumeros.count(4))\n",
    "#Primeira vez usando .count"
   ]
  }
 ],
 "metadata": {
  "kernelspec": {
   "display_name": "Python 3",
   "language": "python",
   "name": "python3"
  },
  "language_info": {
   "codemirror_mode": {
    "name": "ipython",
    "version": 3
   },
   "file_extension": ".py",
   "mimetype": "text/x-python",
   "name": "python",
   "nbconvert_exporter": "python",
   "pygments_lexer": "ipython3",
   "version": "3.11.4"
  }
 },
 "nbformat": 4,
 "nbformat_minor": 2
}

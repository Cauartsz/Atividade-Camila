{
 "cells": [
  {
   "cell_type": "code",
   "execution_count": 16,
   "metadata": {},
   "outputs": [
    {
     "name": "stdout",
     "output_type": "stream",
     "text": [
      "sistem.login_type: ['cakaka']\n",
      "sistem.confirm_login: ['cakaka']\n",
      "Sua senha foi criada com sucesso: cakaka\n"
     ]
    }
   ],
   "source": [
    "#Formas de Login já existentes (Google, Face) - Inserir palavra: OK\n",
    "#Variavel 'login' e lista de palavra do login: OK\n",
    "\n",
    "login= input('Digite a sua forma de login ou crie uma senha:')\n",
    "listaL= [login]\n",
    "print('sistem.login_type:', listaL)\n",
    "\n",
    "#Confirmação da palavra - Confirmar palavra: OK\n",
    "#Variavel 'confirm' e lista de palavras de confirmação: OK\n",
    "\n",
    "confirm= input('Confirme sua forma de login ou senha:')\n",
    "listaCL= [confirm]\n",
    "print('sistem.confirm_login:', listaCL)\n",
    "\n",
    "#DECISÃO - Digite as palavras igualmente: OK\n",
    "#(GOOGLE).\n",
    "\n",
    "if ((listaL[0] == 'google' or listaL[0] == 'Google' or listaL[0] == 'GOOGLE') and (listaCL[0] == 'google' or listaCL[0] == 'Google' or listaCL[0] == 'GOOGLE')):\n",
    "    print('Login feito com sua conta do Google.')\n",
    "    \n",
    "#(FACEBOOK).\n",
    "\n",
    "elif ((listaL[0] == 'facebook' or listaL[0] == 'Facebook' or listaL[0] == 'face' or listaL[0] == 'FACEBOOK' or listaL[0] == 'FACE') and (listaCL[0] == 'facebook' or listaCL[0] == 'Facebook' or listaCL[0] == 'face' or listaCL[0] == 'FACE' or listaCL[0] == 'FACEBOOK')):\n",
    "    print('Login feito com sua conta do Facebook.')\n",
    "    \n",
    "#(DIFERENTES).\n",
    "\n",
    "elif (listaL[0] != listaCL[0]):\n",
    "    print('As palavras não coincidem. Tente novamente.')\n",
    "else:\n",
    "    print('Sua senha foi criada com sucesso:',confirm)"
   ]
  }
 ],
 "metadata": {
  "kernelspec": {
   "display_name": "Python 3",
   "language": "python",
   "name": "python3"
  },
  "language_info": {
   "codemirror_mode": {
    "name": "ipython",
    "version": 3
   },
   "file_extension": ".py",
   "mimetype": "text/x-python",
   "name": "python",
   "nbconvert_exporter": "python",
   "pygments_lexer": "ipython3",
   "version": "3.11.4"
  }
 },
 "nbformat": 4,
 "nbformat_minor": 2
}

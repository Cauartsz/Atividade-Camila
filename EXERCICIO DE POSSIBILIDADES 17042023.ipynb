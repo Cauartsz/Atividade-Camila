{
 "cells": [
  {
   "cell_type": "code",
   "execution_count": 27,
   "metadata": {},
   "outputs": [
    {
     "name": "stdout",
     "output_type": "stream",
     "text": [
      "| Ano do carro: 85 \n",
      "| Valor do carro: 900.0 \n",
      "| Taxa do carro: 9.0 reais\n"
     ]
    }
   ],
   "source": [
    "#IDENTIFICAR ANO, VALOR E TAXA DO CARRO E IMPRIMI-LAS (DESAFIO 1 - 17/04/2023)\n",
    "carro= int(input('Insira o ano do seu automóvel:'))\n",
    "valor= float(input('Insira o valor do seu automóvel:'))\n",
    "#VARIAVEIS NECESSARIAS\n",
    "antes= carro < 1990\n",
    "depois= carro >= 1990\n",
    "taxaa= (1/100) * valor\n",
    "taxad= (1.5/100) * valor\n",
    "#RESPOSTA DO SISTEMA\n",
    "if (antes):\n",
    "    print('| Ano do carro:', carro, '\\n| Valor do carro:', valor,'\\n| Taxa do carro:', taxaa,'reais')\n",
    "else:\n",
    "    if (depois):\n",
    "        print('| Ano do carro:', carro, '\\n| Valor do carro:', valor,'\\n| Taxa do carro:', taxad,'reais')"
   ]
  },
  {
   "cell_type": "code",
   "execution_count": 1,
   "metadata": {},
   "outputs": [
    {
     "name": "stdout",
     "output_type": "stream",
     "text": [
      "Seu cargo é de ENGENHEIRO(A)!\n",
      "Salário antigo: 52000.0 \n",
      "Novo salário: 62400.0 \n",
      "Diferença: 20%\n"
     ]
    }
   ],
   "source": [
    "#IDENTIFICAR CARGO, SALARIO, AUMENTO E DIFERENÇA DE FUNCIONÁRIOS (DESAFIO 2 - 17/04/2023)\n",
    "#INSERIR SALARIO E CARGO\n",
    "salario= float(input('Insira o valor de seu salário:'))\n",
    "cargo= (input('Digite o seu cargo ou o código dele:'))\n",
    "#VARIAVEIS NECESSARIAS DE SALARIO (CALCULOS PRONTOS)\n",
    "salariogerente= salario + (10/100 * salario)\n",
    "salarioeng= salario + (20/100 * salario)\n",
    "salariotec= salario + (30/100 * salario)\n",
    "#VARIAVEIS NECESSARIAS DE CARGOS\n",
    "#GERENTE (CONDICOES - IMPRESSAO OK)\n",
    "if (cargo == '101' or cargo == 'Gerente' or cargo == 'gerente' or cargo == 'GERENTE'):\n",
    "    print('Seu cargo é de GERENTE!\\nSalário antigo:', salario,'\\nNovo salário:', salariogerente,'\\nDiferença: 10%')\n",
    "else:\n",
    "    #ENGENHEIRO (CONDICOES - IMPRESSAO OK)\n",
    "    if (cargo == '102' or cargo == 'engenheiro' or cargo == 'Engenheiro' or cargo == 'ENGENHEIRO' or cargo == 'engenheira' or cargo == 'Engenheira' or cargo == 'ENGENHEIRA'):\n",
    "        print('Seu cargo é de ENGENHEIRO(A)!\\nSalário antigo:', salario,'\\nNovo salário:', salarioeng,'\\nDiferença: 20%')\n",
    "    else:\n",
    "        #TECNICO ( CONDICOES - IMPRESSAO OK)\n",
    "        if (cargo == '103' or cargo == 'tecnico' or cargo == 'técnico' or cargo == 'Técnico' or cargo == 'Tecnico' or cargo == 'TECNICO' or cargo == 'TÉCNICO' or cargo == 'tecnica' or cargo == 'técnica' or cargo == 'Tecnica' or cargo == 'Técnica' or cargo == 'TECNICA' or cargo == 'TÉCNICA'):\n",
    "            print('Seu cargo é de TÉCNICO(A)!\\nSalário antigo:', salario,'\\nNovo salário:', salariotec,'\\nDiferença: 30%')"
   ]
  }
 ],
 "metadata": {
  "kernelspec": {
   "display_name": "Python 3",
   "language": "python",
   "name": "python3"
  },
  "language_info": {
   "codemirror_mode": {
    "name": "ipython",
    "version": 3
   },
   "file_extension": ".py",
   "mimetype": "text/x-python",
   "name": "python",
   "nbconvert_exporter": "python",
   "pygments_lexer": "ipython3",
   "version": "3.11.4"
  }
 },
 "nbformat": 4,
 "nbformat_minor": 2
}

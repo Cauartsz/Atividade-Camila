{
  "nbformat": 4,
  "nbformat_minor": 0,
  "metadata": {
    "colab": {
      "provenance": []
    },
    "kernelspec": {
      "name": "python3",
      "display_name": "Python 3"
    },
    "language_info": {
      "name": "python"
    }
  },
  "cells": [
    {
      "cell_type": "code",
      "execution_count": 3,
      "metadata": {
        "colab": {
          "base_uri": "https://localhost:8080/"
        },
        "id": "SoyOuEQRg07L",
        "outputId": "7698bcc8-071e-4932-bf20-ce964212e3da"
      },
      "outputs": [
        {
          "output_type": "stream",
          "name": "stdout",
          "text": [
            "Insira uma letra e direi se ela é uma Vogal ou Consoante:87\n",
            "Texto inválido, digite apenas uma única letra.\n"
          ]
        }
      ],
      "source": [
        "letra= input('Insira uma letra e direi se ela é uma Vogal ou Consoante:')                                                #//Pedir letra.//\n",
        "str(letra)                                                                                                               #//transformar dado em str.//\n",
        "if (len(letra) >= 2):                                                                                                    #//Condições e contador/limitador de caracteres.//\n",
        "    print('Texto inválido, digite apenas uma única letra.')                                                              #//Respostas.//\n",
        "elif (letra != 'a' and letra != 'A' and letra != 'E' and letra != 'e' and letra != 'I' and letra != 'i' and letra != 'O' and letra != 'o' and letra != 'U' and letra != 'u'):\n",
        "    print('A letra inserida é uma Consoante:',letra)                                                                     #//Suporte para minuscula ou maiuscula.//\n",
        "else:                                                                                                                    #//Finalizado.//\n",
        "    print('A letra inserida é uma Vogal:',letra)\n",
        "                                                                                                                         #Erro se digitar um numero ou mais...\n",
        "                                                                                                                         #Sistema AntiLetters (Letras desnecessárias) ok.\n",
        "                                                                                                                         #Poderia ter repetição para prevenir erros..."
      ]
    },
    {
      "cell_type": "code",
      "source": [
        "lista = []\n",
        "valorx= float(input(\"Insira o valor do primeiro produto:\"))                                  #//Pedir valores.//\n",
        "lista.append(valorx)\n",
        "valory= float(input(\"Insira o valor do segundo produto:\"))\n",
        "lista.append(valory)\n",
        "valorz= float(input(\"Insira o valor do terceiro produto:\"))\n",
        "lista.append(valorz)\n",
        "print(lista)\n",
        "lista.sort(reverse = False)                                                                  #//Resposta.//\n",
        "print('O produto mais barato é o de valor:',lista[0])                                        #//Finalizado.//\n",
        "                                                                                             #Erro se digitar letras...\n",
        "                                                                                             #Poderia ter repetição para prevenir erros...\n",
        "\n",
        "                                                                                             #Sistema AntiNumbers (Números desnecessários) ok."
      ],
      "metadata": {
        "colab": {
          "base_uri": "https://localhost:8080/"
        },
        "id": "v_9m1vFsiIq0",
        "outputId": "a29de530-d408-4c75-9ef0-1a1daf36caef"
      },
      "execution_count": 5,
      "outputs": [
        {
          "output_type": "stream",
          "name": "stdout",
          "text": [
            "Insira o valor do primeiro produto:3\n",
            "Insira o valor do segundo produto:5\n",
            "Insira o valor do terceiro produto:7\n",
            "[3.0, 5.0, 7.0]\n",
            "O produto mais barato é o de valor: 3.0\n"
          ]
        }
      ]
    },
    {
      "cell_type": "code",
      "source": [
        "lista = []\n",
        "numero1= float(input(\"Insira o primeiro número:\"))                    #//Pedir valores.//\n",
        "lista.append(numero1)\n",
        "numero2= float(input(\"Insira o segundo número:\"))\n",
        "lista.append(numero2)\n",
        "numero3= float(input(\"Insira o terceiro número:\"))\n",
        "lista.append(numero3)\n",
        "lista.sort(reverse = True)                                            #//Resposta.//\n",
        "print('Aqui estão os números em ordem decrescente:',lista)            #//Finalizado.//\n",
        "#Sistema AntiNumbers ok.\n",
        "#Erro se digitar letras..."
      ],
      "metadata": {
        "id": "4hkynrGJjkKF"
      },
      "execution_count": null,
      "outputs": []
    },
    {
      "cell_type": "code",
      "source": [
        "#//Perguntar o turno num limite de 3 vezes.//\n",
        "perguntarTurno = 0\n",
        "for perguntarTurno in range (0,3):\n",
        " turno = input('Digite o seu turno: [M] - Matutino | [V] - Vespertino | [N] - Noturno')\n",
        " str(turno) #//Transformar dado em str.//\n",
        " if (turno == 'M' or turno == 'm'): #//Respostas.//\n",
        "     print('Bom dia estudante!')\n",
        "     break\n",
        " elif (turno == 'V' or turno == 'v'):\n",
        "     print('Boa tarde estudante!')\n",
        "     break\n",
        " elif (turno == 'N' or turno == 'n'):\n",
        "     print('Boa noite estudante!')\n",
        "     break\n",
        " else:\n",
        "     print('Valor invalido, tente novamente.')\n",
        "     perguntarTurno += 1\n",
        "while perguntarTurno >= 3: #//Outras Respostas//\n",
        "    print('Quantidade máxima de tentativas alcançada, tente novamente.')\n",
        "    break\n",
        "#Sem erros vistos.\n",
        "#While, in range e AntiNumbers e Antiletters ok."
      ],
      "metadata": {
        "id": "fWma6Jssjv0L"
      },
      "execution_count": null,
      "outputs": []
    },
    {
      "cell_type": "code",
      "source": [
        "pergunta = 0\n",
        "for pergunta in range (0,4):\n",
        " dia = float(input('Digite um número inteiro (1 a 7) correspondente ao dia da semana: '))\n",
        " if (dia == 1):\n",
        "     print('O dia da semana correspondente a',dia, 'é Domingo!')\n",
        "     break\n",
        " elif (dia == 2):\n",
        "     print('O dia da semana correspondente a',dia, 'é Segunda-feira!')\n",
        "     break\n",
        " elif (dia == 3):\n",
        "     print('O dia da semana correspondente a',dia, 'é Terça-feira!')\n",
        "     break\n",
        " elif (dia == 4):\n",
        "     print('O dia da semana correspondente a',dia, 'é Quarta-feira!')\n",
        "     break\n",
        " elif (dia == 5):\n",
        "     print('O dia da semana correspondente a',dia, 'é Quinta-feira!')\n",
        "     break\n",
        " elif (dia == 6):\n",
        "     print('O dia da semana correspondente a',dia, 'é Sexta-feira!')\n",
        "     break\n",
        " elif (dia == 7):\n",
        "     print('O dia da semana correspondente a',dia, 'é Sábado!')\n",
        "     break\n",
        " else:\n",
        "     print('O texto digitado é inválido. Tente novamente')\n",
        "     pergunta += 1\n",
        "while pergunta >= 4:\n",
        "    print('Limite de tentativas alcançado, tente novamente mais tarde.')\n",
        "    break\n",
        "#Sistema AntiNumbers ok.\n",
        "#Erro ao digitar letras..."
      ],
      "metadata": {
        "id": "9ZwG5h30jwl7"
      },
      "execution_count": null,
      "outputs": []
    },
    {
      "cell_type": "code",
      "source": [
        "nota1 = float(input('Digite sua primeira nota: '))\n",
        "nota2 = float(input('Digite sua segunda nota: '))\n",
        "media = (nota1 + nota2) / 2\n",
        "if (media > 10):\n",
        "    print('Não foi possível verificar, digite corretamente as suas notas.')\n",
        "elif (media >= 9 and media <= 10):\n",
        "    print('Primeira nota:',nota1, '\\nSegunda nota:',nota2, '\\nMédia:',media, '\\nConceito: A', '\\nVocê foi aprovado(a)!')\n",
        "elif (media >= 7.5 and media < 9):\n",
        "    print('Primeira nota:',nota1, '\\nSegunda nota:',nota2, '\\nMédia:',media, '\\nConceito: B', '\\nVocê foi aprovado(a)!')\n",
        "elif (media >= 6 and media < 7.5):\n",
        "    print('Primeira nota:',nota1, '\\nSegunda nota:',nota2, '\\nMédia:',media, '\\nConceito: C', '\\nVocê foi aprovado(a)!')\n",
        "elif (media >= 4 and media < 6):\n",
        "    print('Primeira nota:',nota1, '\\nSegunda nota:',nota2, '\\nMédia:',media, '\\nConceito: D', '\\nVocê foi reprovado(a), tente novamente.')\n",
        "elif (media < 4):\n",
        "    print('Primeira nota:',nota1, '\\nSegunda nota:',nota2, '\\nMédia:',media, '\\nConceito: E', '\\nVocê foi reprovado(a), tente novamente.')\n",
        "#Sistema AntiNumbers ok\n",
        "#Erro ao digitar letras..."
      ],
      "metadata": {
        "id": "5Iaben6Qj0lk"
      },
      "execution_count": null,
      "outputs": []
    },
    {
      "cell_type": "code",
      "source": [],
      "metadata": {
        "id": "z0h0ERUXkDR7"
      },
      "execution_count": null,
      "outputs": []
    }
  ]
}
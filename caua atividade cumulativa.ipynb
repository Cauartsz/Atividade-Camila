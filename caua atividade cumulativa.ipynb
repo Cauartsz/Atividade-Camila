{
 "cells": [
  {
   "cell_type": "code",
   "execution_count": 6,
   "metadata": {},
   "outputs": [
    {
     "name": "stdout",
     "output_type": "stream",
     "text": [
      "Encerrado\n"
     ]
    }
   ],
   "source": [
    "dango= 0\n",
    "while dango < 3:\n",
    "    bango= input('sim')\n",
    "    if (bango == 'sair'):\n",
    "        print('Encerrado')\n",
    "        break"
   ]
  },
  {
   "cell_type": "code",
   "execution_count": null,
   "metadata": {},
   "outputs": [],
   "source": [
    "#1-VERIFICAR VOGAL OU CONSOANTE:\n",
    "#Pedir letra\n",
    "letra= input('Insira uma letra, direi se é vogal ou consoante:')\n",
    "#"
   ]
  },
  {
   "cell_type": "code",
   "execution_count": 14,
   "metadata": {},
   "outputs": [
    {
     "name": "stdout",
     "output_type": "stream",
     "text": [
      "O primeiro produto é o mais barato: 8.0\n"
     ]
    }
   ],
   "source": [
    "#2-PEDIR VALOR DE 3 PRODUTOS E DIZER O MAIS BARATO:\n",
    "#Pedir valores\n",
    "valor1= float(input(\"Insira o valor do primeiro produto:\"))\n",
    "valor2= float(input(\"Insira o valor do segundo produto:\"))\n",
    "valor3= float(input(\"Insira o valor do terceiro produto:\"))\n",
    "#Respostas\n",
    "if (valor1 > valor2 and valor1 > valor3):\n",
    "    print('O primeiro produto é o mais barato:',valor1)\n",
    "elif (valor2 > valor1 and valor2 > valor3):\n",
    "    print('O segundo produto é o mais barato:',valor2)\n",
    "else:\n",
    "    print('O terceiro produto é o mais barato:',valor3)\n",
    "#OK"
   ]
  },
  {
   "cell_type": "code",
   "execution_count": 18,
   "metadata": {},
   "outputs": [
    {
     "name": "stdout",
     "output_type": "stream",
     "text": [
      "Essa é a ordem decrescente dos 3 números inseridos: 8.0 10.0 10.0\n"
     ]
    }
   ],
   "source": [
    "#3-PEDIR 3 NÚMEROS E PÔR EM ORDEM DECRESCENTE:\n",
    "#Pedir valores\n",
    "numero1= float(input(\"Insira o primeiro número:\"))\n",
    "numero2= float(input(\"Insira o segundo número:\"))\n",
    "numero3= float(input(\"Insira o terceiro número:\"))\n",
    "#Respostas\n",
    "if ((numero1 > numero2 and numero1 > numero3) and (numero2 > numero3)):\n",
    "    print(\"Essa é a ordem decrescente dos 3 números inseridos:\",numero1, numero2, numero3)\n",
    "elif ((numero2 > numero1 and numero2 > numero3) and (numero1 > numero3)):\n",
    "    print(\"Essa é a ordem decrescente dos 3 números inseridos:\",numero2, numero1, numero3)\n",
    "elif ((numero2 > numero1 and numero2 > numero3) and (numero3 > numero1)):\n",
    "    print(\"Essa é a ordem decrescente dos 3 números inseridos:\",numero2, numero3, numero1)\n",
    "elif ((numero3 > numero1 and numero3 > numero2) and (numero2 > numero1)):\n",
    "    print(\"Essa é a ordem decrescente dos 3 números inseridos:\",numero3, numero2, numero1)\n",
    "else:\n",
    "    print(\"Essa é a ordem decrescente dos 3 números inseridos:\",numero3, numero1, numero2)\n",
    "#Falha se colocar numeros repetidos (executa o else)"
   ]
  }
 ],
 "metadata": {
  "kernelspec": {
   "display_name": "Python 3",
   "language": "python",
   "name": "python3"
  },
  "language_info": {
   "codemirror_mode": {
    "name": "ipython",
    "version": 3
   },
   "file_extension": ".py",
   "mimetype": "text/x-python",
   "name": "python",
   "nbconvert_exporter": "python",
   "pygments_lexer": "ipython3",
   "version": "3.12.1"
  }
 },
 "nbformat": 4,
 "nbformat_minor": 2
}

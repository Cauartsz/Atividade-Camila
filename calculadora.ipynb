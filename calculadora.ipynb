{
 "cells": [
  {
   "cell_type": "code",
   "execution_count": 1,
   "metadata": {},
   "outputs": [
    {
     "name": "stdout",
     "output_type": "stream",
     "text": [
      "Número  0\n",
      "Número  1\n",
      "Número  2\n",
      "Número  3\n",
      "Número  4\n"
     ]
    }
   ],
   "source": [
    "def funcaoLeitura():\n",
    "    for i in range(5):\n",
    "        print('Número ', i)\n",
    "\n",
    "funcaoLeitura()\n",
    "#Parentese vazio = sem parametros"
   ]
  },
  {
   "cell_type": "code",
   "execution_count": 3,
   "metadata": {},
   "outputs": [
    {
     "name": "stdout",
     "output_type": "stream",
     "text": [
      "O primeiro número é: 2\n",
      "O segundo número é: 3\n",
      "O soma número é: 5\n"
     ]
    }
   ],
   "source": [
    "def addNum(n1,n2):\n",
    "    print(\"O primeiro número é:\", n1)\n",
    "    print(\"O segundo número é:\", n2)\n",
    "    print(\"O soma número é:\", n1+n2)\n",
    "\n",
    "addNum(2,3)\n",
    "#função para somar dois numeros com parametros"
   ]
  },
  {
   "cell_type": "code",
   "execution_count": 4,
   "metadata": {},
   "outputs": [
    {
     "name": "stdout",
     "output_type": "stream",
     "text": [
      "O primeiro número é: 4\n",
      "O segundo número é: 3\n",
      "O soma número é: 7\n"
     ]
    }
   ],
   "source": [
    "def addNum(n1,n2):\n",
    "    print(\"O primeiro número é:\", n1)\n",
    "    print(\"O segundo número é:\", n2)\n",
    "    print(\"O soma número é:\", n1+n2)\n",
    "\n",
    "addNum(4,3)"
   ]
  },
  {
   "cell_type": "code",
   "execution_count": 5,
   "metadata": {},
   "outputs": [
    {
     "ename": "TypeError",
     "evalue": "addNum() missing 2 required positional arguments: 'n1' and 'n2'",
     "output_type": "error",
     "traceback": [
      "\u001b[1;31m---------------------------------------------------------------------------\u001b[0m",
      "\u001b[1;31mTypeError\u001b[0m                                 Traceback (most recent call last)",
      "Cell \u001b[1;32mIn[5], line 1\u001b[0m\n\u001b[1;32m----> 1\u001b[0m \u001b[43maddNum\u001b[49m\u001b[43m(\u001b[49m\u001b[43m)\u001b[49m\n\u001b[0;32m      2\u001b[0m \u001b[38;5;66;03m#Da erro pois ja foi definida que ela precisa de dois argtumentos\u001b[39;00m\n",
      "\u001b[1;31mTypeError\u001b[0m: addNum() missing 2 required positional arguments: 'n1' and 'n2'"
     ]
    }
   ],
   "source": [
    "addNum()\n",
    "#Da erro pois ja foi definida que ela precisa de dois argtumentos"
   ]
  },
  {
   "cell_type": "code",
   "execution_count": 8,
   "metadata": {},
   "outputs": [
    {
     "name": "stdout",
     "output_type": "stream",
     "text": [
      "Variavel da função multiplica: 20\n",
      "10\n"
     ]
    }
   ],
   "source": [
    "verGlobal = 10 #Essa e a variavel global\n",
    "def multiplicacao(n1,n2):\n",
    "    verGlobal = (n1 * n2) #Essa é a variavel local, so acontece dentro da funcao\n",
    "    print('Variavel da função multiplica:', verGlobal)\n",
    "\n",
    "multiplicacao(5,4)\n",
    "print(verGlobal)"
   ]
  },
  {
   "cell_type": "code",
   "execution_count": 10,
   "metadata": {},
   "outputs": [
    {
     "name": "stdout",
     "output_type": "stream",
     "text": [
      "Variavel da função multiplica: 20\n"
     ]
    }
   ],
   "source": [
    "verGlobal = 10 #Essa e a variavel global\n",
    "def multiplicacao(n1,n2):\n",
    "    verLocal = (n1 * n2) #Essa é a variavel local\n",
    "    print('Variavel da função multiplica:', verLocal)\n",
    "\n",
    "multiplicacao(5,4)\n",
    "#print(verLocal) erro"
   ]
  },
  {
   "cell_type": "code",
   "execution_count": 12,
   "metadata": {},
   "outputs": [],
   "source": [
    "def separarTexto(texto):\n",
    "    return texto.split()\n"
   ]
  },
  {
   "cell_type": "code",
   "execution_count": 13,
   "metadata": {},
   "outputs": [
    {
     "data": {
      "text/plain": [
       "['Cibele', 'Maria']"
      ]
     },
     "execution_count": 13,
     "metadata": {},
     "output_type": "execute_result"
    }
   ],
   "source": [
    "separarTexto('Cibele Maria')"
   ]
  },
  {
   "cell_type": "code",
   "execution_count": 14,
   "metadata": {},
   "outputs": [
    {
     "data": {
      "text/plain": [
       "['Cibele', 'Maria', 'Suely']"
      ]
     },
     "execution_count": 14,
     "metadata": {},
     "output_type": "execute_result"
    }
   ],
   "source": [
    "separarTexto('Cibele Maria Suely')"
   ]
  },
  {
   "cell_type": "code",
   "execution_count": 17,
   "metadata": {},
   "outputs": [],
   "source": [
    "#QUANDO NÃO SABEMOS A QUANTIDADE DE PARAMETROS USA *\n",
    "def xparametros(*parametros):\n",
    "    for n, item in enumerate(parametros):\n",
    "     print('parametro', n, item)\n",
    "    return"
   ]
  },
  {
   "cell_type": "code",
   "execution_count": 18,
   "metadata": {},
   "outputs": [
    {
     "name": "stdout",
     "output_type": "stream",
     "text": [
      "parametro 0 Cibele\n",
      "parametro 1 Suely\n",
      "parametro 2 Luquinhas\n",
      "parametro 3 Giggio\n",
      "parametro 4 Madá\n"
     ]
    }
   ],
   "source": [
    "xparametros('Cibele','Suely','Luquinhas','Giggio','Madá')"
   ]
  },
  {
   "cell_type": "code",
   "execution_count": 19,
   "metadata": {},
   "outputs": [],
   "source": [
    "def soma(n1,n2):\n",
    "    return n1 + n2\n",
    "def subtrai(n1,n2):\n",
    "    return n1 - n2\n",
    "def multiplica(n1,n2):\n",
    "    return n1 * n2\n",
    "def divide(n1,n2):\n",
    "    return n1 / n2"
   ]
  },
  {
   "cell_type": "code",
   "execution_count": null,
   "metadata": {},
   "outputs": [],
   "source": [
    "while True:\n",
    "    print('|===================|')\n",
    "    print('| MENU DE OPERAÇÕES |')\n",
    "    print('|    1 = SOMAR      |')\n",
    "    print('|   2 = SUBTRAIR    |')\n",
    "    print('|  3 = MULTIPLICAR  |')\n",
    "    print('|    4 = DIVIDIR    |')\n",
    "    print('|     0 = SAIR      |')\n",
    "    print('|===================|')"
   ]
  },
  {
   "cell_type": "code",
   "execution_count": 20,
   "metadata": {},
   "outputs": [
    {
     "ename": "SyntaxError",
     "evalue": "'break' outside loop (820996187.py, line 3)",
     "output_type": "error",
     "traceback": [
      "\u001b[1;36m  Cell \u001b[1;32mIn[20], line 3\u001b[1;36m\u001b[0m\n\u001b[1;33m    break\u001b[0m\n\u001b[1;37m    ^\u001b[0m\n\u001b[1;31mSyntaxError\u001b[0m\u001b[1;31m:\u001b[0m 'break' outside loop\n"
     ]
    }
   ],
   "source": [
    "op = int(input())\n",
    "if op == 0:\n",
    "    break\n",
    "\n",
    "n1 = int(input('Primeiro Numero:'))\n",
    "n2 = int(input('Segundo Numero'))\n",
    "\n",
    "if op == 1:\n",
    "    print('Resultado:', soma(n1,n2))\n",
    "elif op == 2:\n",
    "    print('Resultado:', subtrai(n1,n2))\n",
    "elif op == 3:\n",
    "    print('Resultado:', multiplica(n1,n2))\n",
    "elif op == 4:\n",
    "    print('Resultado:', divide(n1,n2))"
   ]
  },
  {
   "cell_type": "code",
   "execution_count": 7,
   "metadata": {},
   "outputs": [
    {
     "name": "stdout",
     "output_type": "stream",
     "text": [
      "|===================|\n",
      "| MENU DE OPERAÇÕES |\n",
      "|    1 = SOMAR      |\n",
      "|   2 = SUBTRAIR    |\n",
      "|  3 = MULTIPLICAR  |\n",
      "|    4 = DIVIDIR    |\n",
      "|     0 = SAIR      |\n",
      "|===================|\n",
      "Resultado da SUBTRAÇÃO: 0\n"
     ]
    }
   ],
   "source": [
    "def soma(n1,n2):\n",
    "    return n1 + n2\n",
    "def subtrai(n1,n2):\n",
    "    return n1 - n2\n",
    "def multiplica(n1,n2):\n",
    "    return n1 * n2\n",
    "def divide(n1,n2):\n",
    "    return n1 / n2\n",
    "\n",
    "while True:\n",
    "    print('|===================|')\n",
    "    print('| MENU DE OPERAÇÕES |')\n",
    "    print('|    1 = SOMAR      |')\n",
    "    print('|   2 = SUBTRAIR    |')\n",
    "    print('|  3 = MULTIPLICAR  |')\n",
    "    print('|    4 = DIVIDIR    |')\n",
    "    print('|     0 = SAIR      |')\n",
    "    print('|===================|')\n",
    "    op = int(input('Digite a operação que deseja executar:'))\n",
    "    if op == 0:\n",
    "     print('Você encerrou a operação.')\n",
    "     break\n",
    "    n1 = int(input('Primeiro Numero:'))\n",
    "    n2 = int(input('Segundo Numero'))\n",
    "    if op == 1:\n",
    "     print('Resultado da SOMA:', soma(n1,n2))\n",
    "     break\n",
    "    elif op == 2:\n",
    "     print('Resultado da SUBTRAÇÃO:', subtrai(n1,n2))\n",
    "     break\n",
    "    elif op == 3:\n",
    "     print('Resultado da MULTIPLICAÇÃO:', multiplica(n1,n2))\n",
    "     break\n",
    "    elif op == 4:\n",
    "     print('Resultado da DIVISÃO:', divide(n1,n2))\n",
    "     break"
   ]
  }
 ],
 "metadata": {
  "kernelspec": {
   "display_name": "Python 3",
   "language": "python",
   "name": "python3"
  },
  "language_info": {
   "codemirror_mode": {
    "name": "ipython",
    "version": 3
   },
   "file_extension": ".py",
   "mimetype": "text/x-python",
   "name": "python",
   "nbconvert_exporter": "python",
   "pygments_lexer": "ipython3",
   "version": "3.11.9"
  }
 },
 "nbformat": 4,
 "nbformat_minor": 2
}

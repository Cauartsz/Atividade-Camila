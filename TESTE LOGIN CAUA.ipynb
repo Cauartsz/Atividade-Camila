{
 "cells": [
  {
   "cell_type": "code",
   "execution_count": 12,
   "metadata": {},
   "outputs": [
    {
     "name": "stdout",
     "output_type": "stream",
     "text": [
      "[1, 2, 3, 4, 5, 3, 2, 3]\n",
      "Existem 3 números (3) registrados no sistema.\n"
     ]
    }
   ],
   "source": [
    "listaa= [1,2,3,4,5]\n",
    "\n",
    "dado1= int(input('Digite os dados da nova lista:'))\n",
    "dado2= int(input('Digite os dados da nova lista:'))\n",
    "dado3= int(input('Digite os dados da nova lista:'))\n",
    "\n",
    "listab= [dado1,dado2,dado3]\n",
    "listac= listaa + listab\n",
    "print(listac)\n",
    "\n",
    "if (listac.count(3) == 1):\n",
    "    print('Existe 1 número (3) registrado no sistema.')\n",
    "elif (listac.count(3) == 2):\n",
    "    print('Existem 2 números (3) registrados no sistema.')\n",
    "elif (listac.count(3) == 3):\n",
    "    print('Existem 3 números (3) registrados no sistema.')\n",
    "elif (listac.count(3) == 4):\n",
    "    print('Existem 4 números (3) registrados no sistema.')"
   ]
  },
  {
   "cell_type": "code",
   "execution_count": 29,
   "metadata": {},
   "outputs": [
    {
     "name": "stdout",
     "output_type": "stream",
     "text": [
      "r.sistem: 54\n",
      "r.sistem: 5\n",
      "r.sistem: False\n",
      "As senhas não coincidem, tente novamente.\n"
     ]
    }
   ],
   "source": [
    "#\n",
    "senha= input('Crie sua senha:')\n",
    "print('r.sistem:', senha)\n",
    "#\n",
    "confirm= input('Confirme sua senha:')\n",
    "print('r.sistem:', confirm)\n",
    "#\n",
    "acesso= senha == confirm\n",
    "print('r.sistem:', acesso)\n",
    "#\n",
    "if (acesso == True):\n",
    "    print('Login executado com sucesso!')\n",
    "elif (acesso == False):\n",
    "    print('As senhas não coincidem, tente novamente.')\n",
    "#MEIADO"
   ]
  },
  {
   "cell_type": "code",
   "execution_count": 39,
   "metadata": {},
   "outputs": [
    {
     "name": "stdout",
     "output_type": "stream",
     "text": [
      "Login efetivado com sua Conta do Google.\n",
      "r.sistem: po\n",
      "r.sistem: po\n",
      "r.sistem: True\n",
      "Login efetivado com sucesso!\n"
     ]
    }
   ],
   "source": [
    "#\n",
    "outromeio= input('Insira um meio de Login seu já existente:')\n",
    "if (outromeio == 'google' or 'Google'):\n",
    "    print('Login efetivado com sua Conta do Google.')\n",
    "elif (outromeio == 'facebook' or 'Facebook'):\n",
    "    print('Login efetivado com sua Conta do Facebook.')\n",
    "#\n",
    "senha= input('Crie sua senha:')\n",
    "print('r.sistem:', senha)\n",
    "#\n",
    "confirm= input('Confirme sua senha:')\n",
    "print('r.sistem:', confirm)\n",
    "#\n",
    "acesso= senha == confirm\n",
    "print('r.sistem:', acesso)\n",
    "#\n",
    "google= 'google'\n",
    "#\n",
    "if (acesso == google):\n",
    "    print('Login efetivado com sua Conta do Google.')\n",
    "elif (acesso == True):\n",
    "    print('Login efetivado com sucesso!')\n",
    "elif (acesso == False):\n",
    "    print('As senhas não coincidem, tente novamente.')\n",
    "#NNTERMINADO"
   ]
  },
  {
   "cell_type": "code",
   "execution_count": 50,
   "metadata": {},
   "outputs": [
    {
     "name": "stdout",
     "output_type": "stream",
     "text": [
      "['8']\n",
      "['8']\n",
      "True\n",
      "False\n"
     ]
    }
   ],
   "source": [
    "senha= input('Crie sua senha:')\n",
    "listasenhas= [senha]\n",
    "print(listasenhas)\n",
    "#TESTE\n",
    "confirm= input('Confirme sua senha:')\n",
    "listaconfirm= [confirm]\n",
    "print(listaconfirm)\n",
    "#\n",
    "print(senha is confirm)\n",
    "print(listasenhas is listaconfirm)"
   ]
  },
  {
   "cell_type": "code",
   "execution_count": 71,
   "metadata": {},
   "outputs": [
    {
     "name": "stdout",
     "output_type": "stream",
     "text": [
      "sistem.password: ['facebook']\n",
      "sistem.confirm: ['facebook']\n",
      "ok\n"
     ]
    }
   ],
   "source": [
    "senha= input('Crie sua senha:')\n",
    "listasenhas= [senha]\n",
    "print('sistem.password:', listasenhas)\n",
    "#\n",
    "confirm= input('Confirme sua senha:')\n",
    "listaconfirm= [confirm]\n",
    "print('sistem.confirm:', listaconfirm)\n",
    "#\n",
    "google= [\"google\"]\n",
    "Google= [\"Google\"]\n",
    "facebook= [\"facebook\"]\n",
    "Facebook= [\"Facebook\"]\n",
    "#SEM RESULTADO ESPERADO\n",
    "if (listasenhas[0] == google[0] or Google[0]):\n",
    "    print('ok')\n",
    "elif (listasenhas[0] == facebook[0]):\n",
    "    print('oiiii')"
   ]
  },
  {
   "cell_type": "code",
   "execution_count": 14,
   "metadata": {},
   "outputs": [
    {
     "name": "stdout",
     "output_type": "stream",
     "text": [
      "sistem.login_type: ['face']\n",
      "sistem.confirm_login: ['face']\n",
      "Login feito com sua conta do Facebook.\n"
     ]
    }
   ],
   "source": [
    "#FORMA DE LOGIN JÁ EXISTENTE\n",
    "login= input('Digite a sua forma de Login:')\n",
    "listaL= [login]\n",
    "print('sistem.login_type:', listaL)\n",
    "#\n",
    "confirm= input('Confirme sua forma de Login:')\n",
    "listaCL= [confirm]\n",
    "print('sistem.confirm_login:', listaCL)\n",
    "#\n",
    "if (listaL[0] == 'google' or listaL[0] == 'Google' or listaL[0] == 'GOOGLE' and listaCL[0] == 'google' or listaCL[0] == 'Google' or listaCL[0] == 'GOOGLE'):\n",
    "    print('Login feito com sua conta do Google.')\n",
    "elif (listaL[0] == 'facebook' or listaL[0] == 'Facebook' or listaL[0] == 'face' or listaL[0] == 'FACEBOOK' or listaL[0] == 'FACE' and ListaCL[0] == 'facebook' or ListaCL[0] == 'Facebook' or listaCL[0] == 'face' or listaCL[0] == 'FACE' or ListaCL[0] == 'FACEBOOK'):\n",
    "    print('Login feito com sua conta do Facebook.')\n",
    "else:\n",
    "    print('ok')"
   ]
  }
 ],
 "metadata": {
  "kernelspec": {
   "display_name": "Python 3",
   "language": "python",
   "name": "python3"
  },
  "language_info": {
   "codemirror_mode": {
    "name": "ipython",
    "version": 3
   },
   "file_extension": ".py",
   "mimetype": "text/x-python",
   "name": "python",
   "nbconvert_exporter": "python",
   "pygments_lexer": "ipython3",
   "version": "3.11.9"
  }
 },
 "nbformat": 4,
 "nbformat_minor": 2
}
